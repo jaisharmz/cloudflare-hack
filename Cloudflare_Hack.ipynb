{
  "nbformat": 4,
  "nbformat_minor": 0,
  "metadata": {
    "colab": {
      "provenance": []
    },
    "kernelspec": {
      "name": "python3",
      "display_name": "Python 3"
    },
    "language_info": {
      "name": "python"
    }
  },
  "cells": [
    {
      "cell_type": "code",
      "source": [
        "# ! pip install openai\n",
        "# ! pip install google\n",
        "# ! pip install llama-index-readers-web\n",
        "# ! pip install llama-index-llms-openai\n",
        "# %pip install llama-index-program-openai\n",
        "# %pip install llama-index-llms-llama-api\n",
        "! pip install llama-index-embeddings-openai"
      ],
      "metadata": {
        "colab": {
          "base_uri": "https://localhost:8080/"
        },
        "id": "d_sNGPFnJatM",
        "outputId": "cff2283f-5612-469a-9176-3ce80a47efd6"
      },
      "execution_count": 29,
      "outputs": [
        {
          "output_type": "stream",
          "name": "stdout",
          "text": [
            "Collecting llama-index-embeddings-openai\n",
            "  Downloading llama_index_embeddings_openai-0.1.10-py3-none-any.whl (6.2 kB)\n",
            "Requirement already satisfied: llama-index-core<0.11.0,>=0.10.1 in /usr/local/lib/python3.10/dist-packages (from llama-index-embeddings-openai) (0.10.51)\n",
            "Requirement already satisfied: PyYAML>=6.0.1 in /usr/local/lib/python3.10/dist-packages (from llama-index-core<0.11.0,>=0.10.1->llama-index-embeddings-openai) (6.0.1)\n",
            "Requirement already satisfied: SQLAlchemy[asyncio]>=1.4.49 in /usr/local/lib/python3.10/dist-packages (from llama-index-core<0.11.0,>=0.10.1->llama-index-embeddings-openai) (2.0.31)\n",
            "Requirement already satisfied: aiohttp<4.0.0,>=3.8.6 in /usr/local/lib/python3.10/dist-packages (from llama-index-core<0.11.0,>=0.10.1->llama-index-embeddings-openai) (3.9.5)\n",
            "Requirement already satisfied: dataclasses-json in /usr/local/lib/python3.10/dist-packages (from llama-index-core<0.11.0,>=0.10.1->llama-index-embeddings-openai) (0.6.7)\n",
            "Requirement already satisfied: deprecated>=1.2.9.3 in /usr/local/lib/python3.10/dist-packages (from llama-index-core<0.11.0,>=0.10.1->llama-index-embeddings-openai) (1.2.14)\n",
            "Requirement already satisfied: dirtyjson<2.0.0,>=1.0.8 in /usr/local/lib/python3.10/dist-packages (from llama-index-core<0.11.0,>=0.10.1->llama-index-embeddings-openai) (1.0.8)\n",
            "Requirement already satisfied: fsspec>=2023.5.0 in /usr/local/lib/python3.10/dist-packages (from llama-index-core<0.11.0,>=0.10.1->llama-index-embeddings-openai) (2023.6.0)\n",
            "Requirement already satisfied: httpx in /usr/local/lib/python3.10/dist-packages (from llama-index-core<0.11.0,>=0.10.1->llama-index-embeddings-openai) (0.27.0)\n",
            "Requirement already satisfied: llama-cloud<0.0.7,>=0.0.6 in /usr/local/lib/python3.10/dist-packages (from llama-index-core<0.11.0,>=0.10.1->llama-index-embeddings-openai) (0.0.6)\n",
            "Requirement already satisfied: nest-asyncio<2.0.0,>=1.5.8 in /usr/local/lib/python3.10/dist-packages (from llama-index-core<0.11.0,>=0.10.1->llama-index-embeddings-openai) (1.6.0)\n",
            "Requirement already satisfied: networkx>=3.0 in /usr/local/lib/python3.10/dist-packages (from llama-index-core<0.11.0,>=0.10.1->llama-index-embeddings-openai) (3.3)\n",
            "Requirement already satisfied: nltk<4.0.0,>=3.8.1 in /usr/local/lib/python3.10/dist-packages (from llama-index-core<0.11.0,>=0.10.1->llama-index-embeddings-openai) (3.8.1)\n",
            "Requirement already satisfied: numpy<2.0.0 in /usr/local/lib/python3.10/dist-packages (from llama-index-core<0.11.0,>=0.10.1->llama-index-embeddings-openai) (1.25.2)\n",
            "Requirement already satisfied: openai>=1.1.0 in /usr/local/lib/python3.10/dist-packages (from llama-index-core<0.11.0,>=0.10.1->llama-index-embeddings-openai) (1.35.7)\n",
            "Requirement already satisfied: pandas in /usr/local/lib/python3.10/dist-packages (from llama-index-core<0.11.0,>=0.10.1->llama-index-embeddings-openai) (2.0.3)\n",
            "Requirement already satisfied: pillow>=9.0.0 in /usr/local/lib/python3.10/dist-packages (from llama-index-core<0.11.0,>=0.10.1->llama-index-embeddings-openai) (9.4.0)\n",
            "Requirement already satisfied: requests>=2.31.0 in /usr/local/lib/python3.10/dist-packages (from llama-index-core<0.11.0,>=0.10.1->llama-index-embeddings-openai) (2.31.0)\n",
            "Requirement already satisfied: tenacity!=8.4.0,<9.0.0,>=8.2.0 in /usr/local/lib/python3.10/dist-packages (from llama-index-core<0.11.0,>=0.10.1->llama-index-embeddings-openai) (8.4.1)\n",
            "Requirement already satisfied: tiktoken>=0.3.3 in /usr/local/lib/python3.10/dist-packages (from llama-index-core<0.11.0,>=0.10.1->llama-index-embeddings-openai) (0.7.0)\n",
            "Requirement already satisfied: tqdm<5.0.0,>=4.66.1 in /usr/local/lib/python3.10/dist-packages (from llama-index-core<0.11.0,>=0.10.1->llama-index-embeddings-openai) (4.66.4)\n",
            "Requirement already satisfied: typing-extensions>=4.5.0 in /usr/local/lib/python3.10/dist-packages (from llama-index-core<0.11.0,>=0.10.1->llama-index-embeddings-openai) (4.12.2)\n",
            "Requirement already satisfied: typing-inspect>=0.8.0 in /usr/local/lib/python3.10/dist-packages (from llama-index-core<0.11.0,>=0.10.1->llama-index-embeddings-openai) (0.9.0)\n",
            "Requirement already satisfied: wrapt in /usr/local/lib/python3.10/dist-packages (from llama-index-core<0.11.0,>=0.10.1->llama-index-embeddings-openai) (1.14.1)\n",
            "Requirement already satisfied: aiosignal>=1.1.2 in /usr/local/lib/python3.10/dist-packages (from aiohttp<4.0.0,>=3.8.6->llama-index-core<0.11.0,>=0.10.1->llama-index-embeddings-openai) (1.3.1)\n",
            "Requirement already satisfied: attrs>=17.3.0 in /usr/local/lib/python3.10/dist-packages (from aiohttp<4.0.0,>=3.8.6->llama-index-core<0.11.0,>=0.10.1->llama-index-embeddings-openai) (23.2.0)\n",
            "Requirement already satisfied: frozenlist>=1.1.1 in /usr/local/lib/python3.10/dist-packages (from aiohttp<4.0.0,>=3.8.6->llama-index-core<0.11.0,>=0.10.1->llama-index-embeddings-openai) (1.4.1)\n",
            "Requirement already satisfied: multidict<7.0,>=4.5 in /usr/local/lib/python3.10/dist-packages (from aiohttp<4.0.0,>=3.8.6->llama-index-core<0.11.0,>=0.10.1->llama-index-embeddings-openai) (6.0.5)\n",
            "Requirement already satisfied: yarl<2.0,>=1.0 in /usr/local/lib/python3.10/dist-packages (from aiohttp<4.0.0,>=3.8.6->llama-index-core<0.11.0,>=0.10.1->llama-index-embeddings-openai) (1.9.4)\n",
            "Requirement already satisfied: async-timeout<5.0,>=4.0 in /usr/local/lib/python3.10/dist-packages (from aiohttp<4.0.0,>=3.8.6->llama-index-core<0.11.0,>=0.10.1->llama-index-embeddings-openai) (4.0.3)\n",
            "Requirement already satisfied: pydantic>=1.10 in /usr/local/lib/python3.10/dist-packages (from llama-cloud<0.0.7,>=0.0.6->llama-index-core<0.11.0,>=0.10.1->llama-index-embeddings-openai) (2.7.4)\n",
            "Requirement already satisfied: anyio in /usr/local/lib/python3.10/dist-packages (from httpx->llama-index-core<0.11.0,>=0.10.1->llama-index-embeddings-openai) (3.7.1)\n",
            "Requirement already satisfied: certifi in /usr/local/lib/python3.10/dist-packages (from httpx->llama-index-core<0.11.0,>=0.10.1->llama-index-embeddings-openai) (2024.6.2)\n",
            "Requirement already satisfied: httpcore==1.* in /usr/local/lib/python3.10/dist-packages (from httpx->llama-index-core<0.11.0,>=0.10.1->llama-index-embeddings-openai) (1.0.5)\n",
            "Requirement already satisfied: idna in /usr/local/lib/python3.10/dist-packages (from httpx->llama-index-core<0.11.0,>=0.10.1->llama-index-embeddings-openai) (3.7)\n",
            "Requirement already satisfied: sniffio in /usr/local/lib/python3.10/dist-packages (from httpx->llama-index-core<0.11.0,>=0.10.1->llama-index-embeddings-openai) (1.3.1)\n",
            "Requirement already satisfied: h11<0.15,>=0.13 in /usr/local/lib/python3.10/dist-packages (from httpcore==1.*->httpx->llama-index-core<0.11.0,>=0.10.1->llama-index-embeddings-openai) (0.14.0)\n",
            "Requirement already satisfied: click in /usr/local/lib/python3.10/dist-packages (from nltk<4.0.0,>=3.8.1->llama-index-core<0.11.0,>=0.10.1->llama-index-embeddings-openai) (8.1.7)\n",
            "Requirement already satisfied: joblib in /usr/local/lib/python3.10/dist-packages (from nltk<4.0.0,>=3.8.1->llama-index-core<0.11.0,>=0.10.1->llama-index-embeddings-openai) (1.4.2)\n",
            "Requirement already satisfied: regex>=2021.8.3 in /usr/local/lib/python3.10/dist-packages (from nltk<4.0.0,>=3.8.1->llama-index-core<0.11.0,>=0.10.1->llama-index-embeddings-openai) (2024.5.15)\n",
            "Requirement already satisfied: distro<2,>=1.7.0 in /usr/lib/python3/dist-packages (from openai>=1.1.0->llama-index-core<0.11.0,>=0.10.1->llama-index-embeddings-openai) (1.7.0)\n",
            "Requirement already satisfied: charset-normalizer<4,>=2 in /usr/local/lib/python3.10/dist-packages (from requests>=2.31.0->llama-index-core<0.11.0,>=0.10.1->llama-index-embeddings-openai) (3.3.2)\n",
            "Requirement already satisfied: urllib3<3,>=1.21.1 in /usr/local/lib/python3.10/dist-packages (from requests>=2.31.0->llama-index-core<0.11.0,>=0.10.1->llama-index-embeddings-openai) (2.0.7)\n",
            "Requirement already satisfied: greenlet!=0.4.17 in /usr/local/lib/python3.10/dist-packages (from SQLAlchemy[asyncio]>=1.4.49->llama-index-core<0.11.0,>=0.10.1->llama-index-embeddings-openai) (3.0.3)\n",
            "Requirement already satisfied: mypy-extensions>=0.3.0 in /usr/local/lib/python3.10/dist-packages (from typing-inspect>=0.8.0->llama-index-core<0.11.0,>=0.10.1->llama-index-embeddings-openai) (1.0.0)\n",
            "Requirement already satisfied: marshmallow<4.0.0,>=3.18.0 in /usr/local/lib/python3.10/dist-packages (from dataclasses-json->llama-index-core<0.11.0,>=0.10.1->llama-index-embeddings-openai) (3.21.3)\n",
            "Requirement already satisfied: python-dateutil>=2.8.2 in /usr/local/lib/python3.10/dist-packages (from pandas->llama-index-core<0.11.0,>=0.10.1->llama-index-embeddings-openai) (2.8.2)\n",
            "Requirement already satisfied: pytz>=2020.1 in /usr/local/lib/python3.10/dist-packages (from pandas->llama-index-core<0.11.0,>=0.10.1->llama-index-embeddings-openai) (2023.4)\n",
            "Requirement already satisfied: tzdata>=2022.1 in /usr/local/lib/python3.10/dist-packages (from pandas->llama-index-core<0.11.0,>=0.10.1->llama-index-embeddings-openai) (2024.1)\n",
            "Requirement already satisfied: exceptiongroup in /usr/local/lib/python3.10/dist-packages (from anyio->httpx->llama-index-core<0.11.0,>=0.10.1->llama-index-embeddings-openai) (1.2.1)\n",
            "Requirement already satisfied: packaging>=17.0 in /usr/local/lib/python3.10/dist-packages (from marshmallow<4.0.0,>=3.18.0->dataclasses-json->llama-index-core<0.11.0,>=0.10.1->llama-index-embeddings-openai) (24.1)\n",
            "Requirement already satisfied: annotated-types>=0.4.0 in /usr/local/lib/python3.10/dist-packages (from pydantic>=1.10->llama-cloud<0.0.7,>=0.0.6->llama-index-core<0.11.0,>=0.10.1->llama-index-embeddings-openai) (0.7.0)\n",
            "Requirement already satisfied: pydantic-core==2.18.4 in /usr/local/lib/python3.10/dist-packages (from pydantic>=1.10->llama-cloud<0.0.7,>=0.0.6->llama-index-core<0.11.0,>=0.10.1->llama-index-embeddings-openai) (2.18.4)\n",
            "Requirement already satisfied: six>=1.5 in /usr/local/lib/python3.10/dist-packages (from python-dateutil>=2.8.2->pandas->llama-index-core<0.11.0,>=0.10.1->llama-index-embeddings-openai) (1.16.0)\n",
            "Installing collected packages: llama-index-embeddings-openai\n",
            "Successfully installed llama-index-embeddings-openai-0.1.10\n"
          ]
        }
      ]
    },
    {
      "cell_type": "code",
      "execution_count": 46,
      "metadata": {
        "id": "kKxa_UN0JECV"
      },
      "outputs": [],
      "source": [
        "import os\n",
        "from openai import OpenAI as open_ai\n",
        "import re\n",
        "import numpy as np\n",
        "os.environ[\"OPENAI_API_KEY\"] = 'sk-proj-YKwxWCpNeC8vuhRwigU9T3BlbkFJqpNo6wxzV5dZyRmEzWO4'\n",
        "client = open_ai()"
      ]
    },
    {
      "cell_type": "code",
      "source": [
        "setup_string = \"\"\"\n",
        "Your job is to return Google search queries, specifically Google Dorks, to find more\n",
        "about a subject given a dumped text file of all of the information we currently know\n",
        "about the subject. Not all of this information should be used in every query.\n",
        "You can output up to twenty queries, and they should be formatted in a bullet point list\n",
        "format, where every bullet point contains only the Google Dork search query and nothing\n",
        "else (without quotes).\n",
        "\n",
        "The end goal is to create an OSINT (open source intelligence) report about\n",
        "the given subject. For example, if the user wants to find more about a person,\n",
        "you would help them find out about their location, age, education, associated\n",
        "institutions, relevant connections, and so forth.\n",
        "\"\"\" # add osint flowchart\n",
        "\n",
        "setup_string_two = \"\"\"\n",
        "The end goal is to create an OSINT (open source intelligence) report about\n",
        "the given subject. For example, if the user wants to find more about a person,\n",
        "you would help them find out about their location, age, education, associated\n",
        "institutions, relevant connections, and so forth.\n",
        "\"\"\" # add osint flowchart"
      ],
      "metadata": {
        "id": "d3AquRa5KNzC"
      },
      "execution_count": 106,
      "outputs": []
    },
    {
      "cell_type": "code",
      "source": [
        "prompt = \"\"\"\n",
        "I want to find out more about the person Jai Sharma using Google Dorks. Here are\n",
        "some things I know about him:\n",
        "- Went to Monta Vista High School\n",
        "- Is friends with Milind Maiti\n",
        "- Might be associated with Berkeley\n",
        "- Research oriented and possibly interested in Machine Learning, wrote a paper with Christopher Sun\n",
        "\"\"\""
      ],
      "metadata": {
        "id": "gTyxOYgoK65k"
      },
      "execution_count": 7,
      "outputs": []
    },
    {
      "cell_type": "code",
      "source": [
        "# completion = client.chat.completions.create(\n",
        "#   model=\"gpt-3.5-turbo\",\n",
        "#   messages=[\n",
        "#     {\"role\": \"system\", \"content\": setup_string},\n",
        "#     {\"role\": \"user\", \"content\": prompt}\n",
        "#   ]\n",
        "# )\n",
        "\n",
        "# result = completion.choices[0].message.content\n",
        "# search_list = result.split(\"\\n\")\n",
        "# search_list = [i[2:] for i in search_list]\n",
        "# print(result)\n",
        "# print(search_list)"
      ],
      "metadata": {
        "colab": {
          "base_uri": "https://localhost:8080/"
        },
        "id": "SWzoOKkzJUeF",
        "outputId": "a22ef813-2da9-463f-ef43-86e171956fb5"
      },
      "execution_count": 16,
      "outputs": [
        {
          "output_type": "stream",
          "name": "stdout",
          "text": [
            "- \"Jai Sharma\" \"Monta Vista High School\" \"Berkeley\"\n",
            "- \"Jai Sharma\" \"Milind Maiti\"\n",
            "- \"Jai Sharma\" \"Machine Learning\" \"Christopher Sun\"\n",
            "- \"Jai Sharma\" \"research\" \"Berkeley\"\n",
            "- \"Jai Sharma\" \"publication\" \"Christopher Sun\"\n",
            "- \"Jai Sharma\" \"Machine Learning\" site:berkeley.edu\n",
            "- \"Jai Sharma\" \"Monta Vista High School\" \"alumni\"\n",
            "- \"Jai Sharma\" \"research group\" \"Berkeley\"\n",
            "- \"Jai Sharma\" \"Christopher Sun\" \"co-author\"\n",
            "- \"Jai Sharma\" \"Machine Learning\" \"publication\" -site:github.com\n",
            "- \"Jai Sharma\" \"research interests\" \"Berkeley\"\n",
            "- \"Jai Sharma\" \"Monta Vista High School\" \"facebook\"\n",
            "['\"Jai Sharma\" \"Monta Vista High School\" \"Berkeley\"', '\"Jai Sharma\" \"Milind Maiti\"', '\"Jai Sharma\" \"Machine Learning\" \"Christopher Sun\"', '\"Jai Sharma\" \"research\" \"Berkeley\"', '\"Jai Sharma\" \"publication\" \"Christopher Sun\"', '\"Jai Sharma\" \"Machine Learning\" site:berkeley.edu', '\"Jai Sharma\" \"Monta Vista High School\" \"alumni\"', '\"Jai Sharma\" \"research group\" \"Berkeley\"', '\"Jai Sharma\" \"Christopher Sun\" \"co-author\"', '\"Jai Sharma\" \"Machine Learning\" \"publication\" -site:github.com', '\"Jai Sharma\" \"research interests\" \"Berkeley\"', '\"Jai Sharma\" \"Monta Vista High School\" \"facebook\"']\n"
          ]
        }
      ]
    },
    {
      "cell_type": "code",
      "source": [
        "# from googlesearch import search\n",
        "\n",
        "# # query = \"Geeksforgeeks\"\n",
        "# urls = []\n",
        "\n",
        "# for query in search_list:\n",
        "#   for j in search(query, tld=\"co.in\", num=10, stop=10, pause=2):\n",
        "#       urls.append(j)\n",
        "#       print(j)"
      ],
      "metadata": {
        "id": "DFmhQFw5MFHG"
      },
      "execution_count": 17,
      "outputs": []
    },
    {
      "cell_type": "code",
      "source": [
        "# urls"
      ],
      "metadata": {
        "colab": {
          "base_uri": "https://localhost:8080/"
        },
        "id": "vCdAG6vLoVT5",
        "outputId": "673f2500-a539-445a-9239-c901728227ab"
      },
      "execution_count": 18,
      "outputs": [
        {
          "output_type": "execute_result",
          "data": {
            "text/plain": [
              "['https://www.linkedin.com/in/rithwik-nukala',\n",
              " 'https://www.academia.edu/103814896/Exploring_Algebraic_Conditions_on_Counterexamples_of_the_Collatz_Conjecture',\n",
              " 'https://www.linkedin.com/in/nithyaappannagaari',\n",
              " 'https://www.instagram.com/mvresearchclub/',\n",
              " 'https://ieeexplore.ieee.org/iel7/9987717/9987755/09988121.pdf',\n",
              " 'https://arxiv.org/abs/2108.06628',\n",
              " 'https://www.researchgate.net/scientific-contributions/Milind-Maiti-2199726740',\n",
              " 'https://vixra.org/author/jai_sharma',\n",
              " 'https://vixra.org/author/milind_maiti',\n",
              " 'https://arxiv.org/abs/2205.11230',\n",
              " 'https://www.researchgate.net/scientific-contributions/Jai-Sharma-2199738343',\n",
              " 'https://www.preprints.org/manuscript/202207.0097/v1',\n",
              " 'https://www.researchsquare.com/article/rs-1769921/v1.pdf',\n",
              " 'https://www.researcher-app.com/paper/7041375',\n",
              " 'https://arxiv.org/abs/2108.06628',\n",
              " 'https://www.researchgate.net/scientific-contributions/Jai-Sharma-2199738343',\n",
              " 'https://www.researchgate.net/publication/363724723_Leveraging_Machine_Learning_and_Model-Agnostic_Explanations_to_Understand_Automated_Diagnosis_of_Cardiovascular_Disease',\n",
              " 'https://www.preprints.org/manuscript/202207.0097/v1',\n",
              " 'https://ieeexplore.ieee.org/iel7/9987717/9987755/09988121.pdf',\n",
              " 'https://vixra.org/ai/2201',\n",
              " 'https://arxiv-sanity-lite.com/?rank=pid&pid=2405.20012',\n",
              " 'http://arxiv.org/list/cs/2022-05?skip=3800&show=2000',\n",
              " 'https://typeset.io/conferences/international-conference-on-biomedical-engineering-3n5chys1/2022',\n",
              " 'https://www.rxiv.org/ai',\n",
              " 'https://iis.berkeley.edu/people/jai-sharma',\n",
              " 'https://www.linkedin.com/in/jai-sharma1',\n",
              " 'https://www.linkedin.com/in/jsharmz',\n",
              " 'https://cpd.berkeley.edu/initiatives/undergraduate-fellows-program/ay-2021-22-fellows/',\n",
              " 'https://www.lausanneschool.com/news/posts/2024-young-alumni-panel-welcomes-seven-lausanne-graduates',\n",
              " 'https://iis.berkeley.edu/topics/global-transnational?sort_order=DESC&sort_by=changed&page=1',\n",
              " 'https://iis.berkeley.edu/topics/foreign-policy',\n",
              " 'https://www.academia.edu/103814896/Exploring_Algebraic_Conditions_on_Counterexamples_of_the_Collatz_Conjecture',\n",
              " 'https://www.researchgate.net/publication/378283389_Uncovering_the_Effects_of_Non-Hydrostaticity_on_Pressure-Induced_Phase_Transformation_in_Xenotime-Structured_TbPO4',\n",
              " 'https://www.worisgo.com/team.aspx',\n",
              " 'https://www.researchgate.net/scientific-contributions/Jai-Sharma-2199738343',\n",
              " 'https://www.researchgate.net/publication/363724723_Leveraging_Machine_Learning_and_Model-Agnostic_Explanations_to_Understand_Automated_Diagnosis_of_Cardiovascular_Disease',\n",
              " 'https://ieeexplore.ieee.org/document/9904166',\n",
              " 'http://arxiv.org/list/cs/2022-05?skip=3800&show=2000',\n",
              " 'https://vixra.org/pdf/2201.0094v1.pdf',\n",
              " 'https://arxiv.org/catchup?smonth=8&sday=9&group=grp_&archive=cs&num=50&method=without&syear=2022',\n",
              " 'https://deep.ai/profile/christopher-sun',\n",
              " 'https://www.rxiv.org/ai',\n",
              " 'https://cloud.tencent.com/developer/article/1867203',\n",
              " 'https://digitalassets.lib.berkeley.edu/techreports/ucb/incoming/EECS-2022-191.pdf',\n",
              " 'https://classes.berkeley.edu/',\n",
              " 'https://newsroom.haas.berkeley.edu/wp-content/uploads/2020/01/2009_Fall_CBmag_FINAL.pdf',\n",
              " 'https://gspp.berkeley.edu/assets/uploads/research/pdf/FINAL_Embargoed_Copy_Complete_Reducing_Child_Poverty.pdf',\n",
              " 'https://snap.berkeley.edu/project/11940160',\n",
              " 'https://www1.icsi.berkeley.edu/ftp/global/pub/ai/jagota/vol1_4.pdf',\n",
              " 'https://people.ischool.berkeley.edu/~buckland/histis98.pdf',\n",
              " 'https://w.astro.berkeley.edu/~kalas/ethics/documents/proceedings_rri.pdf',\n",
              " 'http://faculty.haas.berkeley.edu/levine/papers/Flex%20vs.%20efficiency%20NUMMI.pdf',\n",
              " 'https://snap.berkeley.edu/project/11166188',\n",
              " 'https://www.stemboost.org/instructors.html',\n",
              " 'https://m.facebook.com/story.php?story_fbid=616542775602102&substory_index=0&id=229382037651513&m_entstream_source=timeline',\n",
              " 'https://www.instagram.com/mvresearchclub/',\n",
              " 'https://www.facebook.com/STEMBoostCoporation/',\n",
              " 'https://www.stemboost.org/uploads/1/1/9/9/119910201/stemboost_newsletter_sep_2020.pdf',\n",
              " 'https://www.idcrawl.com/gauri-sharma',\n",
              " 'https://www.linkedin.com/posts/professor-david-hind-06666012_calling-all-events-mice-researchers-please-activity-7137029298070122496-Jq86',\n",
              " 'https://www.linkedin.com/in/claire-kvande-03a7b6199',\n",
              " 'https://www.rxiv.org/ai',\n",
              " 'https://github.com/kdodia/bokeh-stats/blob/master/data/bokeh-stats_2014-4-9.csv',\n",
              " 'https://www.scribd.com/document/671964113/Biochemistry-the-Molecular-Basis-of-Life-Oxford-University-Press',\n",
              " 'http://library.ap.tu.ac.th/dublin.linkout.php?url=https://xn--80aa5afbl.xn--p1ai/9613854fe5fe43y',\n",
              " 'http://61.7.230.236/ULIBM//dublin.linkout.php?url=https://xn--80abcm1a7afv2e.xn--p1ai/3961248hbqu0v01-17funerariahomenajesclze5fe43y',\n",
              " 'https://www.tles.tyc.edu.tw/instpage.php?=LoginId%2CLogoffReason%2CPunchTime&h=1200&r=0&url=https://xn--b1af6a9ad0c.xn--p1ai/qrnpyxindfe99.html',\n",
              " 'http://202.129.46.118/ULIB6NEW//dublin.linkout.php?url=https://belparaplan.ru/NqtzLiO6feypr',\n",
              " 'http://61.7.230.236/ULIBM//dublin.linkout.php?url=https://xn--b1aah7ba7h.xn--p1ai/1465938wwwy1ty65kmcomze5fe43y',\n",
              " 'http://arxiv.org/list/cs/2022-05?skip=3800&show=2000',\n",
              " 'https://www.researchgate.net/scientific-contributions/Jai-Sharma-2199738343',\n",
              " 'https://www.linkedin.com/in/jsharmz',\n",
              " 'https://independent.academia.edu/JaiSharma202',\n",
              " 'https://www.amazon.com/Introduction-Deep-Learning-Hands-Implementations/dp/B09LGSH4TR',\n",
              " 'https://www.researchgate.net/publication/363724723_Leveraging_Machine_Learning_and_Model-Agnostic_Explanations_to_Understand_Automated_Diagnosis_of_Cardiovascular_Disease',\n",
              " 'https://in.linkedin.com/in/jai-sharma-671651133',\n",
              " 'https://independent.academia.edu/JaiSharma204',\n",
              " 'https://www.sciencedirect.com/science/article/pii/S1877050918317873',\n",
              " 'https://www.ijitee.org/wp-content/uploads/papers/v8i9S4/I11270789S419.pdf',\n",
              " 'https://switchpointventures.com/wp-content/uploads/2021/04/2018.11_Predicting-Hospital-Readmission-among-Diabetics-using-Deep-Learning.pdf',\n",
              " 'https://iis.berkeley.edu/people/jai-sharma',\n",
              " 'https://cpd.berkeley.edu/initiatives/undergraduate-fellows-program/ay-2021-22-fellows/',\n",
              " 'https://iis.berkeley.edu/topics/global-transnational?sort_order=DESC&sort_by=changed&page=1',\n",
              " 'https://iis.berkeley.edu/topics/foreign-policy',\n",
              " 'https://www.linkedin.com/in/jordanethanbrown',\n",
              " 'https://www.quora.com/What-is-the-process-to-do-PhD-in-microbiology-after-12th',\n",
              " 'https://www.ifheindia.org/NAAC_SSR_Cycle_2_Department_Profiles.pdf',\n",
              " 'https://github.com/kdodia/bokeh-stats/blob/master/data/bokeh-stats_2014-4-9.csv',\n",
              " 'https://ru.scribd.com/document/467803624/zhang2016-pdf',\n",
              " 'https://www.facebook.com/photo.php?fbid=616542775602102&id=229382037651513&set=a.549894868933560&locale=ms_MY',\n",
              " 'https://www.facebook.com/STEMBoostCoporation/',\n",
              " 'https://www.stemboost.org/uploads/1/1/9/9/119910201/stemboost_newsletter_sep_2020.pdf',\n",
              " 'https://www.linkedin.com/in/avni-gandhi-719995243',\n",
              " 'https://www.academia.edu/98478696/Exploring_Algebraic_Conditions_on_Counterexamples_of_the_Collatz_Conjecture',\n",
              " 'https://www.academia.edu/101906652/Looping_and_Divergence_in_the_Collatz_Conjecture?uc-sb-sw=41139054',\n",
              " 'https://www.idcrawl.com/gauri-sharma']"
            ]
          },
          "metadata": {},
          "execution_count": 18
        }
      ]
    },
    {
      "cell_type": "code",
      "source": [
        "from llama_index.readers.web import SimpleWebPageReader\n",
        "from llama_index.core import SummaryIndex, Document\n",
        "from llama_index.core.node_parser import TokenTextSplitter\n",
        "from llama_index.core.node_parser import HTMLNodeParser\n",
        "from llama_index.llms.openai import OpenAI\n",
        "from llama_index.llms.llama_api import LlamaAPI\n",
        "from llama_index.core import Settings\n",
        "from llama_index.core import VectorStoreIndex, get_response_synthesizer\n",
        "from llama_index.core.retrievers import VectorIndexRetriever\n",
        "from llama_index.core.query_engine import RetrieverQueryEngine\n",
        "from llama_index.core.postprocessor import SimilarityPostprocessor\n",
        "from llama_index.embeddings.openai import OpenAIEmbedding\n",
        "\n",
        "# # urls = [\"https://en.wikipedia.org/wiki/Eminem\"]\n",
        "# documents = SimpleWebPageReader().load_data(urls[:5])\n",
        "\n",
        "# for i in range(len(documents)):\n",
        "#   documents[i].text = re.sub(r'\\\\s+', ' ', documents[i].text)\n",
        "#   documents[i].text = re.sub(r' +', ' ', documents[i].text)\n",
        "#   documents[i].text = re.sub(r'\\\\n', '\\n', documents[i].text)\n",
        "#   documents[i].text = re.sub(r'\\n +', '\\n', documents[i].text)\n",
        "#   documents[i].text = re.sub(r'\\n+', '\\n', documents[i].text)\n",
        "#   print(documents[i].text)\n",
        "\n",
        "# parser = HTMLNodeParser(\n",
        "#     # tags=[\"p\", \"h1\"],\n",
        "#     chunk_lines=100,\n",
        "#     chunk_lines_overlap=50,\n",
        "#     max_chars=1500,\n",
        "#     )\n",
        "\n",
        "# nodes = parser.get_nodes_from_documents(documents)\n",
        "# nodes = [node for node in nodes if len(node.text) > 0]\n",
        "# for node in nodes:\n",
        "#   print(node.text)\n",
        "#   print(node.metadata)"
      ],
      "metadata": {
        "id": "6TEAAhOAMNJD"
      },
      "execution_count": 97,
      "outputs": []
    },
    {
      "cell_type": "code",
      "source": [
        "# print(nodes[2].text)"
      ],
      "metadata": {
        "id": "qcXSSG_mjCzN"
      },
      "execution_count": 22,
      "outputs": []
    },
    {
      "cell_type": "code",
      "source": [
        "# len(nodes)"
      ],
      "metadata": {
        "colab": {
          "base_uri": "https://localhost:8080/"
        },
        "id": "tw4j1FPNXFsS",
        "outputId": "a2958072-11c9-4320-8501-87fd2b4f7760"
      },
      "execution_count": 23,
      "outputs": [
        {
          "output_type": "execute_result",
          "data": {
            "text/plain": [
              "12"
            ]
          },
          "metadata": {},
          "execution_count": 23
        }
      ]
    },
    {
      "cell_type": "code",
      "source": [
        "# index = VectorStoreIndex(nodes=nodes)"
      ],
      "metadata": {
        "id": "bl3zR_khd7qt"
      },
      "execution_count": 30,
      "outputs": []
    },
    {
      "cell_type": "code",
      "source": [
        "# Settings.llm = client # OpenAI(model=\"gpt-3.5-turbo\", temperature=0.1)"
      ],
      "metadata": {
        "id": "yCPF4V0jij-o"
      },
      "execution_count": 25,
      "outputs": []
    },
    {
      "cell_type": "code",
      "source": [
        "# query_engine = index.as_query_engine()\n",
        "# response = query_engine.query(prompt)\n",
        "# print(response)"
      ],
      "metadata": {
        "colab": {
          "base_uri": "https://localhost:8080/"
        },
        "id": "obrUOQm7hCyG",
        "outputId": "e5627c1f-15b6-4fb0-93ac-ae52b8ad54a4"
      },
      "execution_count": 26,
      "outputs": [
        {
          "output_type": "stream",
          "name": "stdout",
          "text": [
            "Jai Sharma may have attended Monta Vista High School, is acquainted with Milind Maiti, could have ties to Berkeley, and is likely research-oriented with a potential interest in Machine Learning, having collaborated on a paper with Christopher Sun.\n"
          ]
        }
      ]
    },
    {
      "cell_type": "code",
      "source": [
        "# retriever = VectorIndexRetriever(\n",
        "#     index=index,\n",
        "#     similarity_top_k=10,\n",
        "# )\n",
        "\n",
        "# # # configure response synthesizer\n",
        "# # response_synthesizer = get_response_synthesizer()\n",
        "\n",
        "# # # assemble query engine\n",
        "# # query_engine = RetrieverQueryEngine(\n",
        "# #     retriever=retriever,\n",
        "# #     response_synthesizer=response_synthesizer,\n",
        "# #     node_postprocessors=[SimilarityPostprocessor(similarity_cutoff=0.7)],\n",
        "# # )\n",
        "\n",
        "# # # query\n",
        "# # response = query_engine.query(prompt)\n",
        "# # print(response)\n",
        "\n",
        "# relevant_nodes = retriever.retrieve(prompt)"
      ],
      "metadata": {
        "id": "zshZZ7slkpHh"
      },
      "execution_count": 36,
      "outputs": []
    },
    {
      "cell_type": "code",
      "source": [
        "added_information = \"\\n\\n\\n\".join([i.text for i in relevant_nodes])"
      ],
      "metadata": {
        "colab": {
          "base_uri": "https://localhost:8080/"
        },
        "id": "h4UQhTaVqEY-",
        "outputId": "e93850da-5747-4c51-bee6-442659d44328"
      },
      "execution_count": 41,
      "outputs": [
        {
          "output_type": "stream",
          "name": "stdout",
          "text": [
            "RELATED PAPERS\n",
            "\n",
            "\n",
            "About\n",
            "Press\n",
            "Blog\n",
            "People\n",
            "Papers\n",
            "Topics\n",
            "We're Hiring!\n",
            "Help Center\n",
            "Find new research papers in:\n",
            "Physics\n",
            "Chemistry\n",
            "Biology\n",
            "Health Sciences\n",
            "Ecology\n",
            "Earth Sciences\n",
            "Cognitive Science\n",
            "Mathematics\n",
            "Computer Science\n",
            "Terms\n",
            "Privacy\n",
            "Copyright\n",
            "Academia ©2024\n",
            "\n",
            "\n",
            "Related Papers\n",
            "\n",
            "\n",
            "Log In\n",
            "Sign Up\n",
            "more\n",
            "AboutPressBlogPeoplePapersTermsPrivacyCopyrightWe're Hiring!Help Centerless\n",
            "About\n",
            "Press\n",
            "Blog\n",
            "People\n",
            "Papers\n",
            "Terms\n",
            "Privacy\n",
            "Copyright\n",
            "We're Hiring!\n",
            "Help Center\n",
            "less\n",
            "\n",
            "\n",
            "International Journal of Mathematics and Mathematical Sciences\n",
            "Peter Shiue\n",
            "Samuel Bonaya Buya\n",
            "arXiv: Combinatorics\n",
            "2016 •\n",
            "Maya Ahmed\n",
            "Vicente Padilla\n",
            "We confirm the convergence of the number 2 ^ 30402457 -1 To the Collatz conjecture\n",
            "2024 •\n",
            "Vasilios Andritsos\n",
            "Ismael T Fortunado\n",
            "arXiv (Cornell University)\n",
            "2020 •\n",
            "Anant Gupta\n",
            "arXiv: Dynamical Systems\n",
            "2019 •\n",
            "Pablo Castaneda\n",
            "Maruszka E M Meinard\n",
            "Walter Carnielli\n",
            "2023 •\n",
            "Ahmad f. Alabbasi\n",
            "Arxiv preprint arXiv:0804.3716\n",
            "2008 •\n",
            "Roupam Ghosh\n",
            "Acta Informatica\n",
            "2000 •\n",
            "Stefan Andrei\n",
            "Michael A Idowu\n",
            "2020 •\n",
            "Eldar Sultanow\n",
            "Pure and Applied Mathematics Journal\n",
            "2018 •\n",
            "Matemática e Cidadania\n",
            "2023 •\n",
            "Aya Thompson\n",
            "Florentin Smarandache\n",
            "7th International Conference on Application of Information and Communication Technologies (AICT), Conference Proceedings, 413-415.\n",
            "2013 •\n",
            "yagub aliyev\n",
            "2020 •\n",
            "Dagnachew Jenber\n",
            "\n",
            "\n",
            "RELATED TOPICS\n",
            "\n",
            "\n",
            "Academia.edu no longer supports Internet Explorer.\n",
            "To browse Academia.edu and the wider internet faster and more securely, please take a few seconds to\n",
            "upgrade your browser\n",
            ".\n",
            "\n",
            "\n",
            "Exploring Algebraic Conditions on Counterexamples of the Collatz Conjecture\n",
            "Exploring Algebraic Conditions on Counterexamples of the Collatz Conjecture\n",
            "\n",
            "\n",
            "viXra\n",
            "2021 •\n",
            "Akshat Jha\n",
            "Akram Louiz\n",
            "Not only mathematicians are interested by unsolved problems and conjectures but also a high number of students of all fields who are eager to explore the depth of mathematics. Also, many mathematics problems are related to some problems of logic which we encounter in our daily life and this makes even people who are not scientists very interested by the meanings of the unsolved conjectures and by the possibilities of the solution. This short article about the Collatz conjecture uses easy mathematical tools and represents a fruit of my interest regarding the problems and riddles which mathematicians find complicated. I hope that other researchers can use the results of this article as a collaboration to solve this famous problem. The students may also find in this work an easy introduction to the meanings of the Collatz conjecture.\n",
            "2014 •\n",
            "Micah Jackson\n",
            "viXra\n",
            "2017 •\n",
            "Kurmet Sultan\n",
            "Solution to the Collatz Conjecture\n",
            "Samuel Ferrer Colás\n",
            "The Collatz or 3x + 1 conjecture is perhaps the simplest stated yet unsolved problem in mathematics in the last 70 years. It was circulated orally by Lothar Collatz at the International Congress of Mathematicians in Cambridge, Mass, in 1950 (Lagarias, 2010). The problem is known as the Thwaites conjecture (after Sir Bryan Thwaites), Hasse's algorithm (after Helmut Hasse), or the Syracuse problem. In this concise paper I provide a proof of this conjecture, by finding an upper bound to the Collatz sequence and, as a consequence, a contradiction.\n",
            "arXiv: General Mathematics\n",
            "2020 •\n",
            "Maya Ahmed\n",
            "In this article, we give two different proofs of why the Collatz Conjecture is false.\n",
            "QUEST JOURNALS\n",
            "Collatz conjecture states that : start with any positive integer n. If the integer is odd, multiply it by 3 and add 1. If the number is even, keep on dividing it by 2 until an odd integer is obtained. After repeating this sequence again and again, one will be obtained as the final result. It is also known as the 3n+1 problem or the Ulam conjecture. This paper presents the proof of the collatz conjecture using the basic concepts of number theory.\n",
            "Akram Louiz\n",
            "This is a mathematical letter that uses easy tools in order to prove some interesting results about the Collatz conjecture. This short article carries on the efforts of the previous article about the Collatz conjecture which proves easily an interesting useful sequence with some other results by following a logical method. This work demonstrates also an interesting result which is the five only expressions of the numbers which respect the Collatz conjecture. This result may simplify many other demonstrations regarding the Collatz conjecture. Hence, I invite the readers to discover this content in order to make a new step towards the proof of this beautiful useful conjecture.\n",
            "Collatz Conjecture - The Proof\n",
            "2021 •\n",
            "Leszek Mazurek\n",
            "final version of this paper here -> https://www.researchgate.net/publication/351347153 In this paper, we prove the Collatz conjecture. We show that if a given number can be represented in a form of a certain specific equation then Collatz conjecture is true for that particular number. Next we propose a procedure that for a given number produces this specific equation and we prove that for every initial positive integer, such equation can be found.\n",
            "Timoteo Carletti\n",
            "We here provide a proof of the Collatz conjecture, also known as the (3x+1) or Syracuse conjecture. The proof is organised as follows. First, three distinct fixed points are found for the third iterate of the Collatz map, which hence organise in a period 3 orbit of the original map. These are 1, 2 and 4, the elements which define the unique attracting cycle, as hypothesised by Collatz. To carry out the calculation we write the positive integers in modulo 8, obtain a closed analytical form for the associated map and determine the transitions that yield contracting or expanding iterates. Then, in the second part of the proof, we consider a probabilistic analogue of the deterministic map, where the period-3 orbit {1, 2, 4} acts as an absorbing sink. Working in this setting, we demonstrate that the quasi-stationary state sampled by the system while seeking for its deputed equilibrium is contracting and that each trajectory is bound to converge to the fixed points, as identified above. This implies in turn that all positive integer numbers converge to the period–3 orbit formed by the numbers {1, 2, 4}, under repeated application of the Collatz map. This proves in turn the conjecture.\n",
            "Loading Preview\n",
            "Sorry, preview is currently unavailable. You can download the paper by clicking the button above.\n",
            "\n",
            "\n",
            "Log In\n"
          ]
        }
      ]
    },
    {
      "cell_type": "code",
      "source": [
        "Settings.llm = OpenAI(api_key=os.environ[\"OPENAI_API_KEY\"], model=\"gpt-4o\")\n",
        "Settings.embed_model = OpenAIEmbedding(model=\"text-embedding-3-large\", embed_batch_size=100)"
      ],
      "metadata": {
        "id": "LDj00Taq-Uen"
      },
      "execution_count": 98,
      "outputs": []
    },
    {
      "cell_type": "code",
      "source": [
        "def iteration(prompt):\n",
        "  # Find dorks\n",
        "  completion = client.chat.completions.create(\n",
        "    model=\"gpt-4o\",\n",
        "    messages=[\n",
        "      {\"role\": \"system\", \"content\": setup_string},\n",
        "      {\"role\": \"user\", \"content\": prompt}\n",
        "    ]\n",
        "  )\n",
        "\n",
        "  result = completion.choices[0].message.content\n",
        "  search_list = result.split(\"\\n\")\n",
        "  search_list = [i[2:] for i in search_list]\n",
        "  print(search_list)\n",
        "  # print(result)\n",
        "  # print(search_list)\n",
        "\n",
        "  urls = []\n",
        "  for query in search_list:\n",
        "    for j in search(query, tld=\"co.in\", num=10, stop=10, pause=2):\n",
        "        urls.append(j)\n",
        "        print(j)\n",
        "\n",
        "  np.random.seed(0)\n",
        "  # url_shortlist = np.random.choice(urls, min(20, len(urls))).tolist()\n",
        "  url_shortlist = urls\n",
        "  # print(url_shortlist)\n",
        "  documents = SimpleWebPageReader().load_data(url_shortlist)\n",
        "  print(len(documents))\n",
        "  for i in range(len(documents)):\n",
        "    documents[i].text = re.sub(r'\\\\s+', ' ', documents[i].text)\n",
        "    documents[i].text = re.sub(r' +', ' ', documents[i].text)\n",
        "    documents[i].text = re.sub(r'\\\\n', '\\n', documents[i].text)\n",
        "    documents[i].text = re.sub(r'\\n +', '\\n', documents[i].text)\n",
        "    documents[i].text = re.sub(r'\\n+', '\\n', documents[i].text)\n",
        "    # print(documents[i].text)\n",
        "\n",
        "  parser = HTMLNodeParser(\n",
        "      tags=[\"p\"], #\"h1\"],\n",
        "      chunk_lines=100,\n",
        "      chunk_lines_overlap=50,\n",
        "      # max_chars=150,\n",
        "      # chunk_size=100,\n",
        "      # chunk_overlap=25\n",
        "      # max_tokens=150\n",
        "      )\n",
        "\n",
        "  min_node_len = 0\n",
        "  nodes = parser.get_nodes_from_documents(documents)\n",
        "  nodes = [node for node in nodes if len(node.text) > min_node_len]\n",
        "  # for node in nodes:\n",
        "  #   if len(node.text) > 1500:\n",
        "  #     node.text = node.text[:1500]\n",
        "  for node in nodes:\n",
        "    print(node.text)\n",
        "    print(node.metadata)\n",
        "\n",
        "  index = VectorStoreIndex(nodes=nodes)\n",
        "\n",
        "  retriever = VectorIndexRetriever(\n",
        "      index=index,\n",
        "      similarity_top_k=10,\n",
        "  )\n",
        "\n",
        "  relevant_nodes = retriever.retrieve(\"System Role: \" + setup_string_two + \"\\n\\n\\n\" + \"User Query: \" + prompt)\n",
        "  print(\"THE RELEVANT NODES: \")\n",
        "  added_information = \"\\n\\n\\n\".join([i.text for i in relevant_nodes])\n",
        "\n",
        "  result = prompt + added_information\n",
        "\n",
        "  return result, nodes"
      ],
      "metadata": {
        "id": "ZtIsJo8ErswY"
      },
      "execution_count": 187,
      "outputs": []
    },
    {
      "cell_type": "code",
      "source": [
        "result, nodes = iteration(prompt)"
      ],
      "metadata": {
        "colab": {
          "base_uri": "https://localhost:8080/",
          "height": 1000
        },
        "id": "hk6-6Z8Tsyy5",
        "outputId": "e9cccdf4-169a-4e94-b655-1ed862b7fa51"
      },
      "execution_count": 188,
      "outputs": [
        {
          "output_type": "stream",
          "name": "stdout",
          "text": [
            "['\"Jai Sharma\" \"Monta Vista High School\"', '\"Jai Sharma\" \"Milind Maiti\"', '\"Jai Sharma\" Berkeley', '\"Jai Sharma\" \"Machine Learning\"', '\"Jai Sharma\" \"Christopher Sun\" paper', '\"Jai Sharma\" CV filetype:pdf', '\"Jai Sharma\" \"LinkedIn\"', '\"Jai Sharma\" \"GitHub\"', '\"Jai Sharma\" \"research paper\"', '\"Jai Sharma\" \"machine learning\" site:scholar.google.com', '\"Jai Sharma\" \"research\" site:berkeley.edu', '\"Jai Sharma\" \"research interests\"', '\"Jai Sharma\" \"publications\"', '\"Jai Sharma\" \"conference\" \"machine learning\"', '\"Jai Sharma\" \"friends with Milind Maiti\"', '\"Jai Sharma\" \"email address\"', '\"Jai Sharma\" \"profile\" site:facebook.com', '\"Jai Sharma\" \"profile\" site:twitter.com', '\"Jai Sharma\" \"profile\" site:instagram.com', '\"Jai Sharma\" \"Monta Vista High School\" \"alumni\"']\n",
            "https://www.calibercircle.org/about/the-team\n",
            "https://www.maxpreps.com/ca/cupertino/monta-vista-matadors/athletes/jai-sharma/bio/?careerid=72ip7tlqmns99\n",
            "https://www.stemboost.org/instructors.html\n",
            "https://ieeexplore.ieee.org/iel7/9987717/9987755/09988121.pdf\n",
            "https://www.researchsquare.com/article/rs-1769921/v1.pdf\n",
            "https://arxiv.org/pdf/2205.11230\n",
            "https://www.researchgate.net/publication/364215020_Exploring_Algebraic_Conditions_on_Counterexamples_of_the_Collatz_Conjecture\n",
            "https://www.facebook.com/photo.php?fbid=616542775602102&id=229382037651513&set=a.549894868933560&locale=ms_MY\n",
            "https://www.linkedin.com/in/nithyaappannagaari\n",
            "https://www.academia.edu/103814896/Exploring_Algebraic_Conditions_on_Counterexamples_of_the_Collatz_Conjecture\n",
            "https://ieeexplore.ieee.org/iel7/9987717/9987755/09988121.pdf\n",
            "https://arxiv.org/abs/2108.06628\n",
            "https://www.researchgate.net/scientific-contributions/Milind-Maiti-2199726740\n",
            "https://vixra.org/author/jai_sharma\n",
            "https://arxiv.org/abs/2205.11230\n",
            "https://vixra.org/author/milind_maiti\n",
            "https://www.researchgate.net/scientific-contributions/Jai-Sharma-2199738343\n",
            "https://www.preprints.org/manuscript/202207.0097/v1\n",
            "https://www.researchsquare.com/article/rs-1769921/v1.pdf\n",
            "https://www.researcher-app.com/paper/7041375\n",
            "https://www.linkedin.com/in/jai-sharma1\n",
            "https://www.linkedin.com/in/jsharmz\n",
            "https://iis.berkeley.edu/people/jai-sharma\n",
            "https://www.lausanneschool.com/news/posts/senior-profile-jai-sharma-19\n",
            "https://cpd.berkeley.edu/initiatives/undergraduate-fellows-program/ay-2021-22-fellows/\n",
            "https://www.crunchbase.com/person/jai-sharma-c824\n",
            "https://cricclubs.com/CalCricketUC/viewPlayer.do?playerId=3081513&clubId=35196\n",
            "https://www.lausanneschool.com/news/posts/2024-young-alumni-panel-welcomes-seven-lausanne-graduates\n",
            "https://iis.berkeley.edu/topics/global-transnational?sort_order=DESC&sort_by=changed&page=1\n",
            "https://www.woodstockschools.org/site/default.aspx?PageType=3&DomainID=17&ModuleInstanceID=983&ViewID=6446EE88-D30C-497E-9316-3F8874B3E108&RenderLoc=0&FlexDataID=24030&PageID=27\n",
            "https://www.linkedin.com/in/jsharmz\n",
            "https://in.linkedin.com/in/jaisharma12\n",
            "https://www.amazon.com/Introduction-Deep-Learning-Hands-Implementations/dp/B09LGSH4TR\n",
            "https://www.researchgate.net/scientific-contributions/Jai-Sharma-2199738343\n",
            "https://www.amazon.com/Introduction-Deep-Learning-Hands-Implementations-ebook/dp/B09LTLZHTT\n",
            "https://www.stemboost.org/uploads/1/1/9/9/119910201/intro_to_deep_learning_class_by_jai_sharma.pdf\n",
            "https://www.youtube.com/channel/UCUovPm5PsIcVYD36k22YcAg\n",
            "https://www.slideshare.net/slideshow/presentation-on-ai-by-jai-sharma-of-class/269774746\n",
            "https://theorg.com/org/dimaag-ai/org-chart/jai-sharma\n",
            "https://independent.academia.edu/JaiSharma202\n",
            "https://arxiv.org/pdf/2205.11230\n",
            "https://arxiv.org/abs/2205.11230\n",
            "https://www.researchsquare.com/article/rs-1769921/v1.pdf\n",
            "https://www.researchgate.net/scientific-contributions/Jai-Sharma-2199738343\n",
            "https://vixra.org/author/christopher_sun\n",
            "https://www.researchgate.net/publication/363724723_Leveraging_Machine_Learning_and_Model-Agnostic_Explanations_to_Understand_Automated_Diagnosis_of_Cardiovascular_Disease\n",
            "https://vixra.org/author/jai_sharma\n",
            "https://www.researcher-app.com/paper/7041375\n",
            "https://www.preprints.org/manuscript/202207.0097/v1/download\n",
            "https://arxiv-sanity-lite.com/?rank=pid&pid=2405.20012\n",
            "https://arxiv.org/pdf/2205.11230\n",
            "https://aabahouston.com/resources/Documents/2010_November_AABA_Newsletter.pdf\n",
            "http://www.piet.poornima.org/PIET_NAAC_SSR/mandatory-disclosure.pdf\n",
            "https://ceramics.org/wp-content/uploads/2019/07/2019-UIUC-Keramos-Annual-Report.pdf\n",
            "https://herosteels.com/admin/uploads/userfiles/file/Reach%20Out%20E%20Magazine%20April%20May%202020.pdf\n",
            "https://esstoragesv2.blob.core.windows.net/esstoragesv2/6603_6833.pdf\n",
            "https://www.doonschool.com/weekly/2236.pdf\n",
            "https://www.parklandhealth.org/Scripting/AsposeToPdf.ashx?file=%2FUploads%2FPublic%2F2023+Annual+Report+2.28.24.pdf\n",
            "https://www.svnit.ac.in/web/department/chemical/pdf/DoChE_Newsletter%2021-22.pdf\n",
            "https://cdn.web.uta.edu/-/media/project/website/commencement/programs/2021/spring/commprog-inside_spring2021.ashx\n",
            "https://www.linkedin.com/in/jsharmz\n",
            "https://www.linkedin.com/pub/dir/Jai/Sharma\n",
            "https://www.linkedin.com/in/jai-sharma-2152602\n",
            "https://www.linkedin.com/in/jai-sharma1\n",
            "https://www.linkedin.com/in/jaiisharma/\n",
            "https://www.linkedin.com/in/jai-sharma-918a03253\n",
            "https://www.linkedin.com/in/jai-sharma-b5888983\n",
            "https://www.linkedin.com/in/jai-sharma01\n",
            "https://www.linkedin.com/in/jai-sharma-045829191\n",
            "https://www.linkedin.com/in/jai-sharma-1b526221a\n",
            "https://github.com/jaisharma639\n",
            "https://github.com/sharmajai\n",
            "https://github.com/jai-x\n",
            "https://github.com/ja1sh\n",
            "https://github.com/jaisharma10\n",
            "https://github.com/jsharma44\n",
            "https://github.com/jaisharx\n",
            "https://github.com/jnm-jai\n",
            "https://github.com/jaiomsharma\n",
            "https://github.com/jaisharmaimcl\n",
            "https://www.academia.edu/83929684/Overview_of_Cyborg_Technology\n",
            "https://www.researchgate.net/publication/335658118_Conceptual_Model_On_Skill_-_Gap_Theory_Of_Motivation\n",
            "https://arxiv.org/pdf/2205.11230\n",
            "https://www.citefactor.org/article/index/174322/overview-of-cyborg-technology\n",
            "https://journal-repository.theshillonga.com/index.php/ijeec/article/view/4354\n",
            "https://in.linkedin.com/in/jai-sharma-1a24491a0\n",
            "https://www.scribd.com/document/469088009/final-mcq\n",
            "https://www.stemboost.org/instructors.html\n",
            "https://inspirajournals.com/issue/downloadfile/2/Volumne-Pages/Zev16rxgYBnd3YlWE5pL\n",
            "https://ijcrt.org/track.php?r_id=192254\n",
            "https://iis.berkeley.edu/people/jai-sharma\n",
            "https://cpd.berkeley.edu/initiatives/undergraduate-fellows-program/ay-2021-22-fellows/\n",
            "https://iis.berkeley.edu/topics/foreign-policy\n",
            "https://commencement.berkeley.edu/documents/5/L15661_December_22_Commencement_program_FINAL.pdf\n",
            "https://iis.berkeley.edu/people/jai-sharma\n",
            "https://cpd.berkeley.edu/initiatives/undergraduate-fellows-program/ay-2021-22-fellows/\n",
            "https://www.researchgate.net/publication/366680361_An_Rna_Sequencing_Analysis_of_Glaucoma_Genesis_in_Mice\n",
            "https://www.svnit.ac.in/web/department/chemical/pdf/DoChE_Newsletter%2021-22.pdf\n",
            "https://www.mdpi.com/journal/solids/special_issues/38TMG5NZZ4\n",
            "https://www.bnhs.org/team-member\n",
            "https://www.linkedin.com/in/jordanethanbrown\n",
            "https://wsdc.nitw.ac.in/facultynew/facultyprofile/id/16303\n",
            "https://in.linkedin.com/in/dr-shivanshi-singh-b39a5a221\n",
            "https://www.airmeet.com/e/66215760-bd17-11ea-8171-059a9d3c006c\n",
            "https://www.researchgate.net/scientific-contributions/Jai-Sharma-2199738343\n",
            "https://europepmc.org/authors/0000-0003-3903-4534\n",
            "https://www.longdom.org/author/jai-sharma-25774\n",
            "https://www.researchgate.net/profile/Jai-Sharma-13\n",
            "https://www.linkedin.com/in/jai-sharma-bbb69b106\n",
            "https://uni.xyz/profile/jai58/publications/\n",
            "https://www.linkedin.com/in/jsharmz\n",
            "https://medium.com/@elias.fkb/gpt-book-creator-review-jai-sharma-and-atul-pareek-dcb1308fa19d\n",
            "https://packardgroup.mines.edu/publications/\n",
            "https://www.medifind.com/doctors/jai-b-sharma/505252403\n",
            "https://www.linkedin.com/in/jsharmz\n",
            "https://www.researchgate.net/scientific-contributions/Jai-Sharma-2199738343\n",
            "https://independent.academia.edu/JaiSharma202\n",
            "https://in.linkedin.com/in/jai-sharma-671651133\n",
            "https://www.researchgate.net/publication/366612394_Leveraging_Machine_Learning_and_Model-Agnostic_Explanations_to_Understand_Automated_Diagnosis_of_Cardiovascular_Disease\n",
            "https://www.csitcp.org/volume/1223\n",
            "https://www.academia.edu/102976311/Leveraging_Machine_Learning_and_Model_Agnostic_Explanations_to_Understand_Automated_Diagnosis_of_Cardiovascular_Disease\n",
            "https://archive.cps-vo.org/biblio/view/83173\n",
            "https://www.sciencedirect.com/science/article/pii/S1877050918317873\n",
            "https://www.semanticscholar.org/paper/a2216cb0708264b8f98c4f8645ae81263e7bd0cb\n",
            "https://www.researchgate.net/figure/Example-screenshot-of-the-D-record-tool_fig1_328118019\n",
            "https://www.linkedin.com/posts/sudheer-muvva-91527429_leadership-and-learning-are-indispensable-activity-6980780284329824256-6sT2?trk=public_profile\n",
            "https://milindo-taid.net/tag/documentary/\n",
            "https://en.wikipedia.org/wiki/SuperCops_Vs_Super_Villains\n",
            "https://m.facebook.com/groups/Hyundaii20Club/posts/1524017098551746/\n",
            "https://www.linkedin.com/posts/pkrajput99_pkrajputtalks-request-please-activity-7009414724157091841-Bg6I\n",
            "https://graduation.asu.edu/sites/default/files/2024-05/240502%20ASU%202024%20Spring%20Commencement%20program%20V1%20FINAL.pdf\n",
            "https://jhmovie.fandom.com/wiki/JH_Friends_Collection:_Merry_Little_Powder/Credits\n",
            "https://issuu.com/arizonastateuniversity/docs/spring2024_fullbook_5.2.24.wcvr\n",
            "https://www.online.citibank.co.in/citi-nri/pdf/NRI-list-of-unclaimed-deposits-accounts.pdf\n",
            "https://rocketreach.co/jai-sharma-email_51721061\n",
            "https://rocketreach.co/jai-sharma-email_6136945\n",
            "https://www.apollo.io/people/Jai/Sharma/5aab23d4a6da982851078740\n",
            "https://www.salesgear.io/p/jai-sharma-email-phone\n",
            "https://www.zoominfo.com/p/Jai-Sharma/5280975165\n",
            "https://www.apollo.io/people/Jai/Sharma/57d39d7aa6da985b650063bd\n",
            "https://www.zoominfo.com/p/Jai-Sharma/2349464606\n",
            "https://www.spokeo.com/Jai-Sharma/California/2\n",
            "https://www.dgs.ca.gov/-/media/Divisions/PD/OSDS/Outreach/Small-Business-Advisory-Council/SBAC-RosterUpdated-0423.pdf\n",
            "https://www.flashintel.ai/people/Jai-Sharma-0cc4b4b003a07ea6d9994efe1f5dc1ff/\n",
            "https://m.facebook.com/public/Jai-Sharma\n",
            "https://www.facebook.com/jaisharma911989/\n",
            "https://m.facebook.com/public/Jai-Sharma-Sharma\n",
            "https://m.facebook.com/public/Jai-Sharma-M\n",
            "https://m.facebook.com/profile.php?id=100007579924385\n",
            "https://www.facebook.com/JaiSharma02/\n",
            "https://m.facebook.com/p/Jai-Sharma-100036721657751/\n",
            "https://www.facebook.com/justjp86/\n",
            "https://www.facebook.com/jagdish.upadhyay.3139/\n",
            "https://m.facebook.com/people/Jai-Sharma/100053134636469\n",
            "https://twitter.com/jsjai3009\n",
            "https://twitter.com/sharma10_jai\n",
            "https://twitter.com/jaishar72071961\n",
            "https://twitter.com/ijaisharma143\n",
            "https://twitter.com/JaiShar29546813\n",
            "https://twitter.com/jai639\n",
            "https://mobile.twitter.com/ca_jaisharma\n",
            "https://twitter.com/jai_sharma\n",
            "https://twitter.com/jaish8100\n",
            "https://twitter.com/jaisharmaoffic2\n",
            "https://www.instagram.com/jaisharma1406/\n",
            "https://www.instagram.com/artistmrjai/\n",
            "https://www.instagram.com/official.jaisharma/\n",
            "https://www.instagram.com/jaisharma400/\n",
            "https://www.instagram.com/jai8621/\n",
            "https://www.instagram.com/jaisharmaofficial990/\n",
            "https://www.instagram.com/its_jaisharma_/\n",
            "https://www.instagram.com/jksharma000/\n",
            "https://www.instagram.com/jai.sharma.91/\n",
            "https://www.instagram.com/jai7549/\n",
            "https://www.stemboost.org/instructors.html\n",
            "https://www.facebook.com/photo.php?fbid=616542775602102&id=229382037651513&set=a.549894868933560&locale=ms_MY\n",
            "https://www.instagram.com/mvresearchclub/\n",
            "https://www.facebook.com/STEMBoostCoporation/\n",
            "https://www.stemboost.org/uploads/1/1/9/9/119910201/stemboost_newsletter_sep_2020.pdf\n",
            "https://www.idcrawl.com/gauri-sharma\n"
          ]
        },
        {
          "output_type": "error",
          "ename": "ConnectionError",
          "evalue": "HTTPSConnectionPool(host='www.localhost', port=443): Max retries exceeded with url: /herosteels.com/404.php (Caused by NameResolutionError(\"<urllib3.connection.HTTPSConnection object at 0x7d6522c42620>: Failed to resolve 'www.localhost' ([Errno -2] Name or service not known)\"))",
          "traceback": [
            "\u001b[0;31m---------------------------------------------------------------------------\u001b[0m",
            "\u001b[0;31mgaierror\u001b[0m                                  Traceback (most recent call last)",
            "\u001b[0;32m/usr/local/lib/python3.10/dist-packages/urllib3/connection.py\u001b[0m in \u001b[0;36m_new_conn\u001b[0;34m(self)\u001b[0m\n\u001b[1;32m    202\u001b[0m         \u001b[0;32mtry\u001b[0m\u001b[0;34m:\u001b[0m\u001b[0;34m\u001b[0m\u001b[0;34m\u001b[0m\u001b[0m\n\u001b[0;32m--> 203\u001b[0;31m             sock = connection.create_connection(\n\u001b[0m\u001b[1;32m    204\u001b[0m                 \u001b[0;34m(\u001b[0m\u001b[0mself\u001b[0m\u001b[0;34m.\u001b[0m\u001b[0m_dns_host\u001b[0m\u001b[0;34m,\u001b[0m \u001b[0mself\u001b[0m\u001b[0;34m.\u001b[0m\u001b[0mport\u001b[0m\u001b[0;34m)\u001b[0m\u001b[0;34m,\u001b[0m\u001b[0;34m\u001b[0m\u001b[0;34m\u001b[0m\u001b[0m\n",
            "\u001b[0;32m/usr/local/lib/python3.10/dist-packages/urllib3/util/connection.py\u001b[0m in \u001b[0;36mcreate_connection\u001b[0;34m(address, timeout, source_address, socket_options)\u001b[0m\n\u001b[1;32m     59\u001b[0m \u001b[0;34m\u001b[0m\u001b[0m\n\u001b[0;32m---> 60\u001b[0;31m     \u001b[0;32mfor\u001b[0m \u001b[0mres\u001b[0m \u001b[0;32min\u001b[0m \u001b[0msocket\u001b[0m\u001b[0;34m.\u001b[0m\u001b[0mgetaddrinfo\u001b[0m\u001b[0;34m(\u001b[0m\u001b[0mhost\u001b[0m\u001b[0;34m,\u001b[0m \u001b[0mport\u001b[0m\u001b[0;34m,\u001b[0m \u001b[0mfamily\u001b[0m\u001b[0;34m,\u001b[0m \u001b[0msocket\u001b[0m\u001b[0;34m.\u001b[0m\u001b[0mSOCK_STREAM\u001b[0m\u001b[0;34m)\u001b[0m\u001b[0;34m:\u001b[0m\u001b[0;34m\u001b[0m\u001b[0;34m\u001b[0m\u001b[0m\n\u001b[0m\u001b[1;32m     61\u001b[0m         \u001b[0maf\u001b[0m\u001b[0;34m,\u001b[0m \u001b[0msocktype\u001b[0m\u001b[0;34m,\u001b[0m \u001b[0mproto\u001b[0m\u001b[0;34m,\u001b[0m \u001b[0mcanonname\u001b[0m\u001b[0;34m,\u001b[0m \u001b[0msa\u001b[0m \u001b[0;34m=\u001b[0m \u001b[0mres\u001b[0m\u001b[0;34m\u001b[0m\u001b[0;34m\u001b[0m\u001b[0m\n",
            "\u001b[0;32m/usr/lib/python3.10/socket.py\u001b[0m in \u001b[0;36mgetaddrinfo\u001b[0;34m(host, port, family, type, proto, flags)\u001b[0m\n\u001b[1;32m    954\u001b[0m     \u001b[0maddrlist\u001b[0m \u001b[0;34m=\u001b[0m \u001b[0;34m[\u001b[0m\u001b[0;34m]\u001b[0m\u001b[0;34m\u001b[0m\u001b[0;34m\u001b[0m\u001b[0m\n\u001b[0;32m--> 955\u001b[0;31m     \u001b[0;32mfor\u001b[0m \u001b[0mres\u001b[0m \u001b[0;32min\u001b[0m \u001b[0m_socket\u001b[0m\u001b[0;34m.\u001b[0m\u001b[0mgetaddrinfo\u001b[0m\u001b[0;34m(\u001b[0m\u001b[0mhost\u001b[0m\u001b[0;34m,\u001b[0m \u001b[0mport\u001b[0m\u001b[0;34m,\u001b[0m \u001b[0mfamily\u001b[0m\u001b[0;34m,\u001b[0m \u001b[0mtype\u001b[0m\u001b[0;34m,\u001b[0m \u001b[0mproto\u001b[0m\u001b[0;34m,\u001b[0m \u001b[0mflags\u001b[0m\u001b[0;34m)\u001b[0m\u001b[0;34m:\u001b[0m\u001b[0;34m\u001b[0m\u001b[0;34m\u001b[0m\u001b[0m\n\u001b[0m\u001b[1;32m    956\u001b[0m         \u001b[0maf\u001b[0m\u001b[0;34m,\u001b[0m \u001b[0msocktype\u001b[0m\u001b[0;34m,\u001b[0m \u001b[0mproto\u001b[0m\u001b[0;34m,\u001b[0m \u001b[0mcanonname\u001b[0m\u001b[0;34m,\u001b[0m \u001b[0msa\u001b[0m \u001b[0;34m=\u001b[0m \u001b[0mres\u001b[0m\u001b[0;34m\u001b[0m\u001b[0;34m\u001b[0m\u001b[0m\n",
            "\u001b[0;31mgaierror\u001b[0m: [Errno -2] Name or service not known",
            "\nThe above exception was the direct cause of the following exception:\n",
            "\u001b[0;31mNameResolutionError\u001b[0m                       Traceback (most recent call last)",
            "\u001b[0;32m/usr/local/lib/python3.10/dist-packages/urllib3/connectionpool.py\u001b[0m in \u001b[0;36murlopen\u001b[0;34m(self, method, url, body, headers, retries, redirect, assert_same_host, timeout, pool_timeout, release_conn, chunked, body_pos, preload_content, decode_content, **response_kw)\u001b[0m\n\u001b[1;32m    790\u001b[0m             \u001b[0;31m# Make the request on the HTTPConnection object\u001b[0m\u001b[0;34m\u001b[0m\u001b[0;34m\u001b[0m\u001b[0m\n\u001b[0;32m--> 791\u001b[0;31m             response = self._make_request(\n\u001b[0m\u001b[1;32m    792\u001b[0m                 \u001b[0mconn\u001b[0m\u001b[0;34m,\u001b[0m\u001b[0;34m\u001b[0m\u001b[0;34m\u001b[0m\u001b[0m\n",
            "\u001b[0;32m/usr/local/lib/python3.10/dist-packages/urllib3/connectionpool.py\u001b[0m in \u001b[0;36m_make_request\u001b[0;34m(self, conn, method, url, body, headers, retries, timeout, chunked, response_conn, preload_content, decode_content, enforce_content_length)\u001b[0m\n\u001b[1;32m    491\u001b[0m                 \u001b[0mnew_e\u001b[0m \u001b[0;34m=\u001b[0m \u001b[0m_wrap_proxy_error\u001b[0m\u001b[0;34m(\u001b[0m\u001b[0mnew_e\u001b[0m\u001b[0;34m,\u001b[0m \u001b[0mconn\u001b[0m\u001b[0;34m.\u001b[0m\u001b[0mproxy\u001b[0m\u001b[0;34m.\u001b[0m\u001b[0mscheme\u001b[0m\u001b[0;34m)\u001b[0m\u001b[0;34m\u001b[0m\u001b[0;34m\u001b[0m\u001b[0m\n\u001b[0;32m--> 492\u001b[0;31m             \u001b[0;32mraise\u001b[0m \u001b[0mnew_e\u001b[0m\u001b[0;34m\u001b[0m\u001b[0;34m\u001b[0m\u001b[0m\n\u001b[0m\u001b[1;32m    493\u001b[0m \u001b[0;34m\u001b[0m\u001b[0m\n",
            "\u001b[0;32m/usr/local/lib/python3.10/dist-packages/urllib3/connectionpool.py\u001b[0m in \u001b[0;36m_make_request\u001b[0;34m(self, conn, method, url, body, headers, retries, timeout, chunked, response_conn, preload_content, decode_content, enforce_content_length)\u001b[0m\n\u001b[1;32m    467\u001b[0m             \u001b[0;32mtry\u001b[0m\u001b[0;34m:\u001b[0m\u001b[0;34m\u001b[0m\u001b[0;34m\u001b[0m\u001b[0m\n\u001b[0;32m--> 468\u001b[0;31m                 \u001b[0mself\u001b[0m\u001b[0;34m.\u001b[0m\u001b[0m_validate_conn\u001b[0m\u001b[0;34m(\u001b[0m\u001b[0mconn\u001b[0m\u001b[0;34m)\u001b[0m\u001b[0;34m\u001b[0m\u001b[0;34m\u001b[0m\u001b[0m\n\u001b[0m\u001b[1;32m    469\u001b[0m             \u001b[0;32mexcept\u001b[0m \u001b[0;34m(\u001b[0m\u001b[0mSocketTimeout\u001b[0m\u001b[0;34m,\u001b[0m \u001b[0mBaseSSLError\u001b[0m\u001b[0;34m)\u001b[0m \u001b[0;32mas\u001b[0m \u001b[0me\u001b[0m\u001b[0;34m:\u001b[0m\u001b[0;34m\u001b[0m\u001b[0;34m\u001b[0m\u001b[0m\n",
            "\u001b[0;32m/usr/local/lib/python3.10/dist-packages/urllib3/connectionpool.py\u001b[0m in \u001b[0;36m_validate_conn\u001b[0;34m(self, conn)\u001b[0m\n\u001b[1;32m   1096\u001b[0m         \u001b[0;32mif\u001b[0m \u001b[0mconn\u001b[0m\u001b[0;34m.\u001b[0m\u001b[0mis_closed\u001b[0m\u001b[0;34m:\u001b[0m\u001b[0;34m\u001b[0m\u001b[0;34m\u001b[0m\u001b[0m\n\u001b[0;32m-> 1097\u001b[0;31m             \u001b[0mconn\u001b[0m\u001b[0;34m.\u001b[0m\u001b[0mconnect\u001b[0m\u001b[0;34m(\u001b[0m\u001b[0;34m)\u001b[0m\u001b[0;34m\u001b[0m\u001b[0;34m\u001b[0m\u001b[0m\n\u001b[0m\u001b[1;32m   1098\u001b[0m \u001b[0;34m\u001b[0m\u001b[0m\n",
            "\u001b[0;32m/usr/local/lib/python3.10/dist-packages/urllib3/connection.py\u001b[0m in \u001b[0;36mconnect\u001b[0;34m(self)\u001b[0m\n\u001b[1;32m    610\u001b[0m         \u001b[0msock\u001b[0m\u001b[0;34m:\u001b[0m \u001b[0msocket\u001b[0m\u001b[0;34m.\u001b[0m\u001b[0msocket\u001b[0m \u001b[0;34m|\u001b[0m \u001b[0mssl\u001b[0m\u001b[0;34m.\u001b[0m\u001b[0mSSLSocket\u001b[0m\u001b[0;34m\u001b[0m\u001b[0;34m\u001b[0m\u001b[0m\n\u001b[0;32m--> 611\u001b[0;31m         \u001b[0mself\u001b[0m\u001b[0;34m.\u001b[0m\u001b[0msock\u001b[0m \u001b[0;34m=\u001b[0m \u001b[0msock\u001b[0m \u001b[0;34m=\u001b[0m \u001b[0mself\u001b[0m\u001b[0;34m.\u001b[0m\u001b[0m_new_conn\u001b[0m\u001b[0;34m(\u001b[0m\u001b[0;34m)\u001b[0m\u001b[0;34m\u001b[0m\u001b[0;34m\u001b[0m\u001b[0m\n\u001b[0m\u001b[1;32m    612\u001b[0m         \u001b[0mserver_hostname\u001b[0m\u001b[0;34m:\u001b[0m \u001b[0mstr\u001b[0m \u001b[0;34m=\u001b[0m \u001b[0mself\u001b[0m\u001b[0;34m.\u001b[0m\u001b[0mhost\u001b[0m\u001b[0;34m\u001b[0m\u001b[0;34m\u001b[0m\u001b[0m\n",
            "\u001b[0;32m/usr/local/lib/python3.10/dist-packages/urllib3/connection.py\u001b[0m in \u001b[0;36m_new_conn\u001b[0;34m(self)\u001b[0m\n\u001b[1;32m    209\u001b[0m         \u001b[0;32mexcept\u001b[0m \u001b[0msocket\u001b[0m\u001b[0;34m.\u001b[0m\u001b[0mgaierror\u001b[0m \u001b[0;32mas\u001b[0m \u001b[0me\u001b[0m\u001b[0;34m:\u001b[0m\u001b[0;34m\u001b[0m\u001b[0;34m\u001b[0m\u001b[0m\n\u001b[0;32m--> 210\u001b[0;31m             \u001b[0;32mraise\u001b[0m \u001b[0mNameResolutionError\u001b[0m\u001b[0;34m(\u001b[0m\u001b[0mself\u001b[0m\u001b[0;34m.\u001b[0m\u001b[0mhost\u001b[0m\u001b[0;34m,\u001b[0m \u001b[0mself\u001b[0m\u001b[0;34m,\u001b[0m \u001b[0me\u001b[0m\u001b[0;34m)\u001b[0m \u001b[0;32mfrom\u001b[0m \u001b[0me\u001b[0m\u001b[0;34m\u001b[0m\u001b[0;34m\u001b[0m\u001b[0m\n\u001b[0m\u001b[1;32m    211\u001b[0m         \u001b[0;32mexcept\u001b[0m \u001b[0mSocketTimeout\u001b[0m \u001b[0;32mas\u001b[0m \u001b[0me\u001b[0m\u001b[0;34m:\u001b[0m\u001b[0;34m\u001b[0m\u001b[0;34m\u001b[0m\u001b[0m\n",
            "\u001b[0;31mNameResolutionError\u001b[0m: <urllib3.connection.HTTPSConnection object at 0x7d6522c42620>: Failed to resolve 'www.localhost' ([Errno -2] Name or service not known)",
            "\nThe above exception was the direct cause of the following exception:\n",
            "\u001b[0;31mMaxRetryError\u001b[0m                             Traceback (most recent call last)",
            "\u001b[0;32m/usr/local/lib/python3.10/dist-packages/requests/adapters.py\u001b[0m in \u001b[0;36msend\u001b[0;34m(self, request, stream, timeout, verify, cert, proxies)\u001b[0m\n\u001b[1;32m    485\u001b[0m         \u001b[0;32mtry\u001b[0m\u001b[0;34m:\u001b[0m\u001b[0;34m\u001b[0m\u001b[0;34m\u001b[0m\u001b[0m\n\u001b[0;32m--> 486\u001b[0;31m             resp = conn.urlopen(\n\u001b[0m\u001b[1;32m    487\u001b[0m                 \u001b[0mmethod\u001b[0m\u001b[0;34m=\u001b[0m\u001b[0mrequest\u001b[0m\u001b[0;34m.\u001b[0m\u001b[0mmethod\u001b[0m\u001b[0;34m,\u001b[0m\u001b[0;34m\u001b[0m\u001b[0;34m\u001b[0m\u001b[0m\n",
            "\u001b[0;32m/usr/local/lib/python3.10/dist-packages/urllib3/connectionpool.py\u001b[0m in \u001b[0;36murlopen\u001b[0;34m(self, method, url, body, headers, retries, redirect, assert_same_host, timeout, pool_timeout, release_conn, chunked, body_pos, preload_content, decode_content, **response_kw)\u001b[0m\n\u001b[1;32m    844\u001b[0m \u001b[0;34m\u001b[0m\u001b[0m\n\u001b[0;32m--> 845\u001b[0;31m             retries = retries.increment(\n\u001b[0m\u001b[1;32m    846\u001b[0m                 \u001b[0mmethod\u001b[0m\u001b[0;34m,\u001b[0m \u001b[0murl\u001b[0m\u001b[0;34m,\u001b[0m \u001b[0merror\u001b[0m\u001b[0;34m=\u001b[0m\u001b[0mnew_e\u001b[0m\u001b[0;34m,\u001b[0m \u001b[0m_pool\u001b[0m\u001b[0;34m=\u001b[0m\u001b[0mself\u001b[0m\u001b[0;34m,\u001b[0m \u001b[0m_stacktrace\u001b[0m\u001b[0;34m=\u001b[0m\u001b[0msys\u001b[0m\u001b[0;34m.\u001b[0m\u001b[0mexc_info\u001b[0m\u001b[0;34m(\u001b[0m\u001b[0;34m)\u001b[0m\u001b[0;34m[\u001b[0m\u001b[0;36m2\u001b[0m\u001b[0;34m]\u001b[0m\u001b[0;34m\u001b[0m\u001b[0;34m\u001b[0m\u001b[0m\n",
            "\u001b[0;32m/usr/local/lib/python3.10/dist-packages/urllib3/util/retry.py\u001b[0m in \u001b[0;36mincrement\u001b[0;34m(self, method, url, response, error, _pool, _stacktrace)\u001b[0m\n\u001b[1;32m    514\u001b[0m             \u001b[0mreason\u001b[0m \u001b[0;34m=\u001b[0m \u001b[0merror\u001b[0m \u001b[0;32mor\u001b[0m \u001b[0mResponseError\u001b[0m\u001b[0;34m(\u001b[0m\u001b[0mcause\u001b[0m\u001b[0;34m)\u001b[0m\u001b[0;34m\u001b[0m\u001b[0;34m\u001b[0m\u001b[0m\n\u001b[0;32m--> 515\u001b[0;31m             \u001b[0;32mraise\u001b[0m \u001b[0mMaxRetryError\u001b[0m\u001b[0;34m(\u001b[0m\u001b[0m_pool\u001b[0m\u001b[0;34m,\u001b[0m \u001b[0murl\u001b[0m\u001b[0;34m,\u001b[0m \u001b[0mreason\u001b[0m\u001b[0;34m)\u001b[0m \u001b[0;32mfrom\u001b[0m \u001b[0mreason\u001b[0m  \u001b[0;31m# type: ignore[arg-type]\u001b[0m\u001b[0;34m\u001b[0m\u001b[0;34m\u001b[0m\u001b[0m\n\u001b[0m\u001b[1;32m    516\u001b[0m \u001b[0;34m\u001b[0m\u001b[0m\n",
            "\u001b[0;31mMaxRetryError\u001b[0m: HTTPSConnectionPool(host='www.localhost', port=443): Max retries exceeded with url: /herosteels.com/404.php (Caused by NameResolutionError(\"<urllib3.connection.HTTPSConnection object at 0x7d6522c42620>: Failed to resolve 'www.localhost' ([Errno -2] Name or service not known)\"))",
            "\nDuring handling of the above exception, another exception occurred:\n",
            "\u001b[0;31mConnectionError\u001b[0m                           Traceback (most recent call last)",
            "\u001b[0;32m<ipython-input-188-78fca894299a>\u001b[0m in \u001b[0;36m<cell line: 1>\u001b[0;34m()\u001b[0m\n\u001b[0;32m----> 1\u001b[0;31m \u001b[0mresult\u001b[0m\u001b[0;34m,\u001b[0m \u001b[0mnodes\u001b[0m \u001b[0;34m=\u001b[0m \u001b[0miteration\u001b[0m\u001b[0;34m(\u001b[0m\u001b[0mprompt\u001b[0m\u001b[0;34m)\u001b[0m\u001b[0;34m\u001b[0m\u001b[0;34m\u001b[0m\u001b[0m\n\u001b[0m",
            "\u001b[0;32m<ipython-input-187-42d38b2f4c28>\u001b[0m in \u001b[0;36miteration\u001b[0;34m(prompt)\u001b[0m\n\u001b[1;32m     26\u001b[0m   \u001b[0murl_shortlist\u001b[0m \u001b[0;34m=\u001b[0m \u001b[0murls\u001b[0m\u001b[0;34m\u001b[0m\u001b[0;34m\u001b[0m\u001b[0m\n\u001b[1;32m     27\u001b[0m   \u001b[0;31m# print(url_shortlist)\u001b[0m\u001b[0;34m\u001b[0m\u001b[0;34m\u001b[0m\u001b[0m\n\u001b[0;32m---> 28\u001b[0;31m   \u001b[0mdocuments\u001b[0m \u001b[0;34m=\u001b[0m \u001b[0mSimpleWebPageReader\u001b[0m\u001b[0;34m(\u001b[0m\u001b[0;34m)\u001b[0m\u001b[0;34m.\u001b[0m\u001b[0mload_data\u001b[0m\u001b[0;34m(\u001b[0m\u001b[0murl_shortlist\u001b[0m\u001b[0;34m)\u001b[0m\u001b[0;34m\u001b[0m\u001b[0;34m\u001b[0m\u001b[0m\n\u001b[0m\u001b[1;32m     29\u001b[0m   \u001b[0mprint\u001b[0m\u001b[0;34m(\u001b[0m\u001b[0mlen\u001b[0m\u001b[0;34m(\u001b[0m\u001b[0mdocuments\u001b[0m\u001b[0;34m)\u001b[0m\u001b[0;34m)\u001b[0m\u001b[0;34m\u001b[0m\u001b[0;34m\u001b[0m\u001b[0m\n\u001b[1;32m     30\u001b[0m   \u001b[0;32mfor\u001b[0m \u001b[0mi\u001b[0m \u001b[0;32min\u001b[0m \u001b[0mrange\u001b[0m\u001b[0;34m(\u001b[0m\u001b[0mlen\u001b[0m\u001b[0;34m(\u001b[0m\u001b[0mdocuments\u001b[0m\u001b[0;34m)\u001b[0m\u001b[0;34m)\u001b[0m\u001b[0;34m:\u001b[0m\u001b[0;34m\u001b[0m\u001b[0;34m\u001b[0m\u001b[0m\n",
            "\u001b[0;32m/usr/local/lib/python3.10/dist-packages/llama_index/readers/web/simple_web/base.py\u001b[0m in \u001b[0;36mload_data\u001b[0;34m(self, urls)\u001b[0m\n\u001b[1;32m     60\u001b[0m         \u001b[0mdocuments\u001b[0m \u001b[0;34m=\u001b[0m \u001b[0;34m[\u001b[0m\u001b[0;34m]\u001b[0m\u001b[0;34m\u001b[0m\u001b[0;34m\u001b[0m\u001b[0m\n\u001b[1;32m     61\u001b[0m         \u001b[0;32mfor\u001b[0m \u001b[0murl\u001b[0m \u001b[0;32min\u001b[0m \u001b[0murls\u001b[0m\u001b[0;34m:\u001b[0m\u001b[0;34m\u001b[0m\u001b[0;34m\u001b[0m\u001b[0m\n\u001b[0;32m---> 62\u001b[0;31m             \u001b[0mresponse\u001b[0m \u001b[0;34m=\u001b[0m \u001b[0mrequests\u001b[0m\u001b[0;34m.\u001b[0m\u001b[0mget\u001b[0m\u001b[0;34m(\u001b[0m\u001b[0murl\u001b[0m\u001b[0;34m,\u001b[0m \u001b[0mheaders\u001b[0m\u001b[0;34m=\u001b[0m\u001b[0;32mNone\u001b[0m\u001b[0;34m)\u001b[0m\u001b[0;34m.\u001b[0m\u001b[0mtext\u001b[0m\u001b[0;34m\u001b[0m\u001b[0;34m\u001b[0m\u001b[0m\n\u001b[0m\u001b[1;32m     63\u001b[0m             \u001b[0;32mif\u001b[0m \u001b[0mself\u001b[0m\u001b[0;34m.\u001b[0m\u001b[0mhtml_to_text\u001b[0m\u001b[0;34m:\u001b[0m\u001b[0;34m\u001b[0m\u001b[0;34m\u001b[0m\u001b[0m\n\u001b[1;32m     64\u001b[0m                 \u001b[0;32mimport\u001b[0m \u001b[0mhtml2text\u001b[0m\u001b[0;34m\u001b[0m\u001b[0;34m\u001b[0m\u001b[0m\n",
            "\u001b[0;32m/usr/local/lib/python3.10/dist-packages/requests/api.py\u001b[0m in \u001b[0;36mget\u001b[0;34m(url, params, **kwargs)\u001b[0m\n\u001b[1;32m     71\u001b[0m     \"\"\"\n\u001b[1;32m     72\u001b[0m \u001b[0;34m\u001b[0m\u001b[0m\n\u001b[0;32m---> 73\u001b[0;31m     \u001b[0;32mreturn\u001b[0m \u001b[0mrequest\u001b[0m\u001b[0;34m(\u001b[0m\u001b[0;34m\"get\"\u001b[0m\u001b[0;34m,\u001b[0m \u001b[0murl\u001b[0m\u001b[0;34m,\u001b[0m \u001b[0mparams\u001b[0m\u001b[0;34m=\u001b[0m\u001b[0mparams\u001b[0m\u001b[0;34m,\u001b[0m \u001b[0;34m**\u001b[0m\u001b[0mkwargs\u001b[0m\u001b[0;34m)\u001b[0m\u001b[0;34m\u001b[0m\u001b[0;34m\u001b[0m\u001b[0m\n\u001b[0m\u001b[1;32m     74\u001b[0m \u001b[0;34m\u001b[0m\u001b[0m\n\u001b[1;32m     75\u001b[0m \u001b[0;34m\u001b[0m\u001b[0m\n",
            "\u001b[0;32m/usr/local/lib/python3.10/dist-packages/requests/api.py\u001b[0m in \u001b[0;36mrequest\u001b[0;34m(method, url, **kwargs)\u001b[0m\n\u001b[1;32m     57\u001b[0m     \u001b[0;31m# cases, and look like a memory leak in others.\u001b[0m\u001b[0;34m\u001b[0m\u001b[0;34m\u001b[0m\u001b[0m\n\u001b[1;32m     58\u001b[0m     \u001b[0;32mwith\u001b[0m \u001b[0msessions\u001b[0m\u001b[0;34m.\u001b[0m\u001b[0mSession\u001b[0m\u001b[0;34m(\u001b[0m\u001b[0;34m)\u001b[0m \u001b[0;32mas\u001b[0m \u001b[0msession\u001b[0m\u001b[0;34m:\u001b[0m\u001b[0;34m\u001b[0m\u001b[0;34m\u001b[0m\u001b[0m\n\u001b[0;32m---> 59\u001b[0;31m         \u001b[0;32mreturn\u001b[0m \u001b[0msession\u001b[0m\u001b[0;34m.\u001b[0m\u001b[0mrequest\u001b[0m\u001b[0;34m(\u001b[0m\u001b[0mmethod\u001b[0m\u001b[0;34m=\u001b[0m\u001b[0mmethod\u001b[0m\u001b[0;34m,\u001b[0m \u001b[0murl\u001b[0m\u001b[0;34m=\u001b[0m\u001b[0murl\u001b[0m\u001b[0;34m,\u001b[0m \u001b[0;34m**\u001b[0m\u001b[0mkwargs\u001b[0m\u001b[0;34m)\u001b[0m\u001b[0;34m\u001b[0m\u001b[0;34m\u001b[0m\u001b[0m\n\u001b[0m\u001b[1;32m     60\u001b[0m \u001b[0;34m\u001b[0m\u001b[0m\n\u001b[1;32m     61\u001b[0m \u001b[0;34m\u001b[0m\u001b[0m\n",
            "\u001b[0;32m/usr/local/lib/python3.10/dist-packages/requests/sessions.py\u001b[0m in \u001b[0;36mrequest\u001b[0;34m(self, method, url, params, data, headers, cookies, files, auth, timeout, allow_redirects, proxies, hooks, stream, verify, cert, json)\u001b[0m\n\u001b[1;32m    587\u001b[0m         }\n\u001b[1;32m    588\u001b[0m         \u001b[0msend_kwargs\u001b[0m\u001b[0;34m.\u001b[0m\u001b[0mupdate\u001b[0m\u001b[0;34m(\u001b[0m\u001b[0msettings\u001b[0m\u001b[0;34m)\u001b[0m\u001b[0;34m\u001b[0m\u001b[0;34m\u001b[0m\u001b[0m\n\u001b[0;32m--> 589\u001b[0;31m         \u001b[0mresp\u001b[0m \u001b[0;34m=\u001b[0m \u001b[0mself\u001b[0m\u001b[0;34m.\u001b[0m\u001b[0msend\u001b[0m\u001b[0;34m(\u001b[0m\u001b[0mprep\u001b[0m\u001b[0;34m,\u001b[0m \u001b[0;34m**\u001b[0m\u001b[0msend_kwargs\u001b[0m\u001b[0;34m)\u001b[0m\u001b[0;34m\u001b[0m\u001b[0;34m\u001b[0m\u001b[0m\n\u001b[0m\u001b[1;32m    590\u001b[0m \u001b[0;34m\u001b[0m\u001b[0m\n\u001b[1;32m    591\u001b[0m         \u001b[0;32mreturn\u001b[0m \u001b[0mresp\u001b[0m\u001b[0;34m\u001b[0m\u001b[0;34m\u001b[0m\u001b[0m\n",
            "\u001b[0;32m/usr/local/lib/python3.10/dist-packages/requests/sessions.py\u001b[0m in \u001b[0;36msend\u001b[0;34m(self, request, **kwargs)\u001b[0m\n\u001b[1;32m    723\u001b[0m             \u001b[0;31m# Redirect resolving generator.\u001b[0m\u001b[0;34m\u001b[0m\u001b[0;34m\u001b[0m\u001b[0m\n\u001b[1;32m    724\u001b[0m             \u001b[0mgen\u001b[0m \u001b[0;34m=\u001b[0m \u001b[0mself\u001b[0m\u001b[0;34m.\u001b[0m\u001b[0mresolve_redirects\u001b[0m\u001b[0;34m(\u001b[0m\u001b[0mr\u001b[0m\u001b[0;34m,\u001b[0m \u001b[0mrequest\u001b[0m\u001b[0;34m,\u001b[0m \u001b[0;34m**\u001b[0m\u001b[0mkwargs\u001b[0m\u001b[0;34m)\u001b[0m\u001b[0;34m\u001b[0m\u001b[0;34m\u001b[0m\u001b[0m\n\u001b[0;32m--> 725\u001b[0;31m             \u001b[0mhistory\u001b[0m \u001b[0;34m=\u001b[0m \u001b[0;34m[\u001b[0m\u001b[0mresp\u001b[0m \u001b[0;32mfor\u001b[0m \u001b[0mresp\u001b[0m \u001b[0;32min\u001b[0m \u001b[0mgen\u001b[0m\u001b[0;34m]\u001b[0m\u001b[0;34m\u001b[0m\u001b[0;34m\u001b[0m\u001b[0m\n\u001b[0m\u001b[1;32m    726\u001b[0m         \u001b[0;32melse\u001b[0m\u001b[0;34m:\u001b[0m\u001b[0;34m\u001b[0m\u001b[0;34m\u001b[0m\u001b[0m\n\u001b[1;32m    727\u001b[0m             \u001b[0mhistory\u001b[0m \u001b[0;34m=\u001b[0m \u001b[0;34m[\u001b[0m\u001b[0;34m]\u001b[0m\u001b[0;34m\u001b[0m\u001b[0;34m\u001b[0m\u001b[0m\n",
            "\u001b[0;32m/usr/local/lib/python3.10/dist-packages/requests/sessions.py\u001b[0m in \u001b[0;36m<listcomp>\u001b[0;34m(.0)\u001b[0m\n\u001b[1;32m    723\u001b[0m             \u001b[0;31m# Redirect resolving generator.\u001b[0m\u001b[0;34m\u001b[0m\u001b[0;34m\u001b[0m\u001b[0m\n\u001b[1;32m    724\u001b[0m             \u001b[0mgen\u001b[0m \u001b[0;34m=\u001b[0m \u001b[0mself\u001b[0m\u001b[0;34m.\u001b[0m\u001b[0mresolve_redirects\u001b[0m\u001b[0;34m(\u001b[0m\u001b[0mr\u001b[0m\u001b[0;34m,\u001b[0m \u001b[0mrequest\u001b[0m\u001b[0;34m,\u001b[0m \u001b[0;34m**\u001b[0m\u001b[0mkwargs\u001b[0m\u001b[0;34m)\u001b[0m\u001b[0;34m\u001b[0m\u001b[0;34m\u001b[0m\u001b[0m\n\u001b[0;32m--> 725\u001b[0;31m             \u001b[0mhistory\u001b[0m \u001b[0;34m=\u001b[0m \u001b[0;34m[\u001b[0m\u001b[0mresp\u001b[0m \u001b[0;32mfor\u001b[0m \u001b[0mresp\u001b[0m \u001b[0;32min\u001b[0m \u001b[0mgen\u001b[0m\u001b[0;34m]\u001b[0m\u001b[0;34m\u001b[0m\u001b[0;34m\u001b[0m\u001b[0m\n\u001b[0m\u001b[1;32m    726\u001b[0m         \u001b[0;32melse\u001b[0m\u001b[0;34m:\u001b[0m\u001b[0;34m\u001b[0m\u001b[0;34m\u001b[0m\u001b[0m\n\u001b[1;32m    727\u001b[0m             \u001b[0mhistory\u001b[0m \u001b[0;34m=\u001b[0m \u001b[0;34m[\u001b[0m\u001b[0;34m]\u001b[0m\u001b[0;34m\u001b[0m\u001b[0;34m\u001b[0m\u001b[0m\n",
            "\u001b[0;32m/usr/local/lib/python3.10/dist-packages/requests/sessions.py\u001b[0m in \u001b[0;36mresolve_redirects\u001b[0;34m(self, resp, req, stream, timeout, verify, cert, proxies, yield_requests, **adapter_kwargs)\u001b[0m\n\u001b[1;32m    264\u001b[0m             \u001b[0;32melse\u001b[0m\u001b[0;34m:\u001b[0m\u001b[0;34m\u001b[0m\u001b[0;34m\u001b[0m\u001b[0m\n\u001b[1;32m    265\u001b[0m \u001b[0;34m\u001b[0m\u001b[0m\n\u001b[0;32m--> 266\u001b[0;31m                 resp = self.send(\n\u001b[0m\u001b[1;32m    267\u001b[0m                     \u001b[0mreq\u001b[0m\u001b[0;34m,\u001b[0m\u001b[0;34m\u001b[0m\u001b[0;34m\u001b[0m\u001b[0m\n\u001b[1;32m    268\u001b[0m                     \u001b[0mstream\u001b[0m\u001b[0;34m=\u001b[0m\u001b[0mstream\u001b[0m\u001b[0;34m,\u001b[0m\u001b[0;34m\u001b[0m\u001b[0;34m\u001b[0m\u001b[0m\n",
            "\u001b[0;32m/usr/local/lib/python3.10/dist-packages/requests/sessions.py\u001b[0m in \u001b[0;36msend\u001b[0;34m(self, request, **kwargs)\u001b[0m\n\u001b[1;32m    701\u001b[0m \u001b[0;34m\u001b[0m\u001b[0m\n\u001b[1;32m    702\u001b[0m         \u001b[0;31m# Send the request\u001b[0m\u001b[0;34m\u001b[0m\u001b[0;34m\u001b[0m\u001b[0m\n\u001b[0;32m--> 703\u001b[0;31m         \u001b[0mr\u001b[0m \u001b[0;34m=\u001b[0m \u001b[0madapter\u001b[0m\u001b[0;34m.\u001b[0m\u001b[0msend\u001b[0m\u001b[0;34m(\u001b[0m\u001b[0mrequest\u001b[0m\u001b[0;34m,\u001b[0m \u001b[0;34m**\u001b[0m\u001b[0mkwargs\u001b[0m\u001b[0;34m)\u001b[0m\u001b[0;34m\u001b[0m\u001b[0;34m\u001b[0m\u001b[0m\n\u001b[0m\u001b[1;32m    704\u001b[0m \u001b[0;34m\u001b[0m\u001b[0m\n\u001b[1;32m    705\u001b[0m         \u001b[0;31m# Total elapsed time of the request (approximately)\u001b[0m\u001b[0;34m\u001b[0m\u001b[0;34m\u001b[0m\u001b[0m\n",
            "\u001b[0;32m/usr/local/lib/python3.10/dist-packages/requests/adapters.py\u001b[0m in \u001b[0;36msend\u001b[0;34m(self, request, stream, timeout, verify, cert, proxies)\u001b[0m\n\u001b[1;32m    517\u001b[0m                 \u001b[0;32mraise\u001b[0m \u001b[0mSSLError\u001b[0m\u001b[0;34m(\u001b[0m\u001b[0me\u001b[0m\u001b[0;34m,\u001b[0m \u001b[0mrequest\u001b[0m\u001b[0;34m=\u001b[0m\u001b[0mrequest\u001b[0m\u001b[0;34m)\u001b[0m\u001b[0;34m\u001b[0m\u001b[0;34m\u001b[0m\u001b[0m\n\u001b[1;32m    518\u001b[0m \u001b[0;34m\u001b[0m\u001b[0m\n\u001b[0;32m--> 519\u001b[0;31m             \u001b[0;32mraise\u001b[0m \u001b[0mConnectionError\u001b[0m\u001b[0;34m(\u001b[0m\u001b[0me\u001b[0m\u001b[0;34m,\u001b[0m \u001b[0mrequest\u001b[0m\u001b[0;34m=\u001b[0m\u001b[0mrequest\u001b[0m\u001b[0;34m)\u001b[0m\u001b[0;34m\u001b[0m\u001b[0;34m\u001b[0m\u001b[0m\n\u001b[0m\u001b[1;32m    520\u001b[0m \u001b[0;34m\u001b[0m\u001b[0m\n\u001b[1;32m    521\u001b[0m         \u001b[0;32mexcept\u001b[0m \u001b[0mClosedPoolError\u001b[0m \u001b[0;32mas\u001b[0m \u001b[0me\u001b[0m\u001b[0;34m:\u001b[0m\u001b[0;34m\u001b[0m\u001b[0;34m\u001b[0m\u001b[0m\n",
            "\u001b[0;31mConnectionError\u001b[0m: HTTPSConnectionPool(host='www.localhost', port=443): Max retries exceeded with url: /herosteels.com/404.php (Caused by NameResolutionError(\"<urllib3.connection.HTTPSConnection object at 0x7d6522c42620>: Failed to resolve 'www.localhost' ([Errno -2] Name or service not known)\"))"
          ]
        }
      ]
    },
    {
      "cell_type": "code",
      "source": [
        "print(result)"
      ],
      "metadata": {
        "colab": {
          "base_uri": "https://localhost:8080/"
        },
        "id": "sLawz-tTzc4N",
        "outputId": "0cca99aa-24d5-4373-837a-eb994e4722f5"
      },
      "execution_count": 185,
      "outputs": [
        {
          "output_type": "stream",
          "name": "stdout",
          "text": [
            "\n",
            "I want to find out more about the person Jai Sharma using Google Dorks. Here are \n",
            "some things I know about him:\n",
            "- Went to Monta Vista High School\n",
            "- Is friends with Milind Maiti\n",
            "- Might be associated with Berkeley\n",
            "- Research oriented and possibly interested in Machine Learning, wrote a paper with Christopher Sun\n",
            "Presentation on AI\n",
            "Read less\n",
            "\n",
            "\n",
            "Tomorrow, Lausanne welcomes seven Lynx alumni back to campus for the annual Young Alumni panel, an insightful session tailored for Upper School students.\n",
            "Representing graduating classes from 2019 to 2023, these alumni will share valuable resources and the experiences that led to their choices in colleges, universities, graduate programs, internships and careers.\n",
            "During the panel, Upper School students will gain helpful tools for their own academic and professional journeys as our alumni discuss how Lausanne equipped them for the future and offer practical advice for college-bound students. Panelists will also touch on the realities of college life, offer reflections on whether they would approach the college process differently and answer questions from Upper School School students.\n",
            "\n",
            "Jordan attended the University of Illinois Urbana-Champaign, graduating this past May, where he received a B.S. in Actuarial Science and a B.A. in Economics. He currently resides in Chicago, IL, working for the Federal Reserve Bank of Chicago as a Research Assistant within Research, Policy, and Public Engagement. When he is not actively aspiring to become an economist, he can be found playing soccer, spending time outdoors, or reading.\n",
            "\n",
            "Jai attended UC Berkeley, where he completed his undergraduate degree in Computer Science and Political Science. At Berkeley, Jai was heavily involved in student advocacy and computer science teaching. He worked at Oracle and Amazon as a Software Engineering intern at Berkeley. Currently, Jai is working at Amazon Advertising in New York as a Software Engineer and applying to law school.\n",
            "Alex is entering her second semester as a junior at the University of Michigan, pursuing an undergraduate degree in pharmaceutical sciences from Michigan's College of Pharmacy. Outside of classes, she enjoys cooking, leading a weekly peer support group for an organization known as Wolverine Support Network, and volunteering at Michigan Medicine. Ultimately, she plans to attend graduate school in a medicine-related field.\n",
            "\n",
            "Sophia is a sophomore studying Electrical and Computer Engineering at Carnegie Mellon University. This past semester, she worked as a teaching assistant for Fundamentals of Programming and Computer Science, CMU's largest introductory computer science course. Last spring, she was a virtual TA for students taking the course remotely in Ukraine. She is most excited about her ongoing research in the Biorobotics lab, where she works with a small team of post-doctorate fellows to develop control systems for an underwater segmented snake robot.\n",
            "She serves on the Board of Directors for Dancers' Symposium, CMU's biggest and most diverse dance performance organization. This upcoming semester, she'll also be stepping up as Service Vice President of the Alpha Phi Omega service fraternity, where she's been continuing her tradition of Sunday morning litter pickup events.\n",
            "\n",
            "Brendan is attending Tufts University as a pre-med student with a double major in Biology and Community Health. Graduating with distinction from Lausanne Collegiate School in 2023, Brendan brought his academic excellence to Tufts, where he has become deeply involved in various aspects of campus life.\n",
            "As a Tufts Community Union Class (TCU) Senator, Brendan actively contributes to student governance, enhancing student awareness of available resources. In the Senate, he serves as a Class of 2027 senator and holds the critical role of Assistant Treasurer.\n",
            "Brendan's engagement extends beyond governance. He is an active member of the Pre-Medical Society Club, Biology Research Club, and Public Health Club, among others. In addition, he is also a mentor to early childhood students in the community.\n",
            "\n",
            "Malaika is enrolled at the University of California, Los Angeles, pursuing a Bachelor of Science. She is majoring in Biology at the School of Ecology and Evolutionary Biology and was recently accepted into the Herb Alpert School of Music, where she is pursuing a minor in Musicology. Outside of school, she is involved in UCLA Songwriters, Music clubs, Outdoors Club and UCLA Dig. While still determining exactly what her career path will look like, she is on the pre-med track and is applying for on-campus research opportunities.\n",
            "After graduating Summa Cum Laude and being involved in Student Government, Model UN, and Varsity Tennis, Dany is attending Brown University studying Health and Human Biology on the pre-med track. In his free time at Brown, he works as a Clinical Research Assistant at an oncology lab, plays on Brown's Club Tennis Team, and volunteers at Rhode Island Hospital.\n",
            "\n",
            "IN THIS\n",
            "\t\t\t\t\t\t\t\tSECTION\n",
            "Lausanne Collegiate School\n",
            "1381 West Massey RoadMemphis, Tennessee 38120\n",
            "\n",
            "(901) 474-1000\n",
            "\n",
            "\n",
            "Help\n",
            "|\n",
            "Advanced Search\n",
            "arXivLabs is a framework that allows collaborators to develop and share new arXiv features directly on our website.\n",
            "Both individuals and organizations that work with arXivLabs have embraced and accepted our values of openness, community, excellence, and user data privacy. arXiv is committed to these values and only works with partners that adhere to them.\n",
            "Have an idea for a project that will add value for arXiv's community?\n",
            "Learn more about arXivLabs\n",
            ".\n",
            "\n",
            "arXiv Operational Status\n",
            "\n",
            "Get status notifications via\n",
            "email\n",
            "or\n",
            "slack\n",
            "\n",
            "\n",
            "Academia.edu no longer supports Internet Explorer.\n",
            "To browse Academia.edu and the wider internet faster and more securely, please take a few seconds to\n",
            "upgrade your browser\n",
            ".\n",
            "Followers\n",
            "0\n",
            "Following\n",
            "0\n",
            "Public Views\n",
            "\n",
            "Enter the email address you signed up with and we'll email you a reset link.\n",
            "\n",
            "\n",
            "Terms of Use\n",
            "|\n",
            "©\n",
            "2023. CPS-VO\n",
            "\n",
            "\n",
            "Academia.edu no longer supports Internet Explorer.\n",
            "To browse Academia.edu and the wider internet faster and more securely, please take a few seconds to\n",
            "upgrade your browser\n",
            ".\n",
            "Enter the email address you signed up with and we'll email you a reset link.\n",
            "In this paper, we investigate the possible scenarios in which a number does not satisfy the Collatz Conjecture, or the 3x+1 conjecture. Specifically, we examine the algebraic behavior of possible counterexamples of the Collatz Conjecture which may lead to a loop other than the trivial loop or unbounded divergence. In order to investigate these, we examine the parity of the numbers in a general Collatz reduction sequence. Further, we examine cases in which these parity cycles are infinitely periodic with finite period. Through the research conducted in the paper, we formulate a necessary algebraic condition for looping in the Collatz Conjecture. We also prove that if a number has a diverging reduction sequence, then it must generate an infinite aperiodic parity cycle.\n",
            "viXra\n",
            "2021 •\n",
            "Akshat Jha\n",
            "Akram Louiz\n",
            "Not only mathematicians are interested by unsolved problems and conjectures but also a high number of students of all fields who are eager to explore the depth of mathematics. Also, many mathematics problems are related to some problems of logic which we encounter in our daily life and this makes even people who are not scientists very interested by the meanings of the unsolved conjectures and by the possibilities of the solution. This short article about the Collatz conjecture uses easy mathematical tools and represents a fruit of my interest regarding the problems and riddles which mathematicians find complicated. I hope that other researchers can use the results of this article as a collaboration to solve this famous problem. The students may also find in this work an easy introduction to the meanings of the Collatz conjecture.\n",
            "2014 •\n",
            "Micah Jackson\n",
            "viXra\n",
            "2017 •\n",
            "Kurmet Sultan\n",
            "Solution to the Collatz Conjecture\n",
            "Samuel Ferrer Colás\n",
            "The Collatz or 3x + 1 conjecture is perhaps the simplest stated yet unsolved problem in mathematics in the last 70 years. It was circulated orally by Lothar Collatz at the International Congress of Mathematicians in Cambridge, Mass, in 1950 (Lagarias, 2010). The problem is known as the Thwaites conjecture (after Sir Bryan Thwaites), Hasse's algorithm (after Helmut Hasse), or the Syracuse problem. In this concise paper I provide a proof of this conjecture, by finding an upper bound to the Collatz sequence and, as a consequence, a contradiction.\n",
            "arXiv: General Mathematics\n",
            "2020 •\n",
            "Maya Ahmed\n",
            "In this article, we give two different proofs of why the Collatz Conjecture is false.\n",
            "QUEST JOURNALS\n",
            "Collatz conjecture states that : start with any positive integer n. If the integer is odd, multiply it by 3 and add 1. If the number is even, keep on dividing it by 2 until an odd integer is obtained. After repeating this sequence again and again, one will be obtained as the final result. It is also known as the 3n+1 problem or the Ulam conjecture. This paper presents the proof of the collatz conjecture using the basic concepts of number theory.\n",
            "Akram Louiz\n",
            "This is a mathematical letter that uses easy tools in order to prove some interesting results about the Collatz conjecture. This short article carries on the efforts of the previous article about the Collatz conjecture which proves easily an interesting useful sequence with some other results by following a logical method. This work demonstrates also an interesting result which is the five only expressions of the numbers which respect the Collatz conjecture. This result may simplify many other demonstrations regarding the Collatz conjecture. Hence, I invite the readers to discover this content in order to make a new step towards the proof of this beautiful useful conjecture.\n",
            "Collatz Conjecture - The Proof\n",
            "2021 •\n",
            "Leszek Mazurek\n",
            "final version of this paper here -> https://www.researchgate.net/publication/351347153 In this paper, we prove the Collatz conjecture. We show that if a given number can be represented in a form of a certain specific equation then Collatz conjecture is true for that particular number. Next we propose a procedure that for a given number produces this specific equation and we prove that for every initial positive integer, such equation can be found.\n",
            "Timoteo Carletti\n",
            "We here provide a proof of the Collatz conjecture, also known as the (3x+1) or Syracuse conjecture. The proof is organised as follows. First, three distinct fixed points are found for the third iterate of the Collatz map, which hence organise in a period 3 orbit of the original map. These are 1, 2 and 4, the elements which define the unique attracting cycle, as hypothesised by Collatz. To carry out the calculation we write the positive integers in modulo 8, obtain a closed analytical form for the associated map and determine the transitions that yield contracting or expanding iterates. Then, in the second part of the proof, we consider a probabilistic analogue of the deterministic map, where the period-3 orbit {1, 2, 4} acts as an absorbing sink. Working in this setting, we demonstrate that the quasi-stationary state sampled by the system while seeking for its deputed equilibrium is contracting and that each trajectory is bound to converge to the fixed points, as identified above. This implies in turn that all positive integer numbers converge to the period–3 orbit formed by the numbers {1, 2, 4}, under repeated application of the Collatz map. This proves in turn the conjecture.\n",
            "Loading Preview\n",
            "Sorry, preview is currently unavailable. You can download the paper by clicking the button above.\n",
            "International Journal of Mathematics and Mathematical Sciences\n",
            "Peter Shiue\n",
            "Samuel Bonaya Buya\n",
            "arXiv: Combinatorics\n",
            "2016 •\n",
            "Maya Ahmed\n",
            "Vicente Padilla\n",
            "We confirm the convergence of the number 2 ^ 30402457 -1 To the Collatz conjecture\n",
            "2024 •\n",
            "Vasilios Andritsos\n",
            "Ismael T Fortunado\n",
            "arXiv (Cornell University)\n",
            "2020 •\n",
            "Anant Gupta\n",
            "arXiv: Dynamical Systems\n",
            "2019 •\n",
            "Pablo Castaneda\n",
            "Maruszka E M Meinard\n",
            "Walter Carnielli\n",
            "2023 •\n",
            "Ahmad f. Alabbasi\n",
            "Arxiv preprint arXiv:0804.3716\n",
            "2008 •\n",
            "Roupam Ghosh\n",
            "Acta Informatica\n",
            "2000 •\n",
            "Stefan Andrei\n",
            "Michael A Idowu\n",
            "2020 •\n",
            "Eldar Sultanow\n",
            "Pure and Applied Mathematics Journal\n",
            "2018 •\n",
            "Matemática e Cidadania\n",
            "2023 •\n",
            "Aya Thompson\n",
            "Florentin Smarandache\n",
            "7th International Conference on Application of Information and Communication Technologies (AICT), Conference Proceedings, 413-415.\n",
            "2013 •\n",
            "yagub aliyev\n",
            "2020 •\n",
            "Dagnachew Jenber\n"
          ]
        }
      ]
    },
    {
      "cell_type": "code",
      "source": [
        "result = iteration(result)"
      ],
      "metadata": {
        "colab": {
          "base_uri": "https://localhost:8080/"
        },
        "id": "h4MbDg3zzwuQ",
        "outputId": "908aedd3-1766-464d-a96f-9abce5eece76"
      },
      "execution_count": 60,
      "outputs": [
        {
          "output_type": "stream",
          "name": "stdout",
          "text": [
            "https://www.linkedin.com/in/rithwik-nukala\n",
            "https://www.linkedin.com/in/nithyaappannagaari\n",
            "https://cdn.web.uta.edu/-/media/project/website/commencement/programs/2021/spring/commprog-inside_spring2021.ashx\n",
            "https://www.middlesex.mass.edu/templateinframes/?Site=Help&Url=https://xn----8sbwhcgscfiy8e.xn--p1ai/k789ejnpam4r3v53xy275comamafe85\n",
            "https://m.facebook.com/groups/sanctuaryasia/posts/10157689145591103/\n",
            "https://m.facebook.com/groups/TIGERSofCENTRALINDIA/permalink/2999473583639142/\n",
            "https://www.instagram.com/p/CB5ceIzDpN-/\n",
            "https://www.instagram.com/p/CToWiwNvMOp/\n"
          ]
        }
      ]
    },
    {
      "cell_type": "code",
      "source": [
        "print(result)"
      ],
      "metadata": {
        "colab": {
          "base_uri": "https://localhost:8080/"
        },
        "id": "UDcaIE880egk",
        "outputId": "50207cf8-8a2e-4733-ab85-db804ba3a446"
      },
      "execution_count": 125,
      "outputs": [
        {
          "output_type": "stream",
          "name": "stdout",
          "text": [
            "\n",
            "I want to find out more about the person Jai Sharma using Google Dorks. Here are \n",
            "some things I know about him:\n",
            "- Went to Monta Vista High School\n",
            "- Is friends with Milind Maiti\n",
            "- Might be associated with Berkeley\n",
            "- Research oriented and possibly interested in Machine Learning, wrote a paper with Christopher Sun\n",
            "Jai Sharma is a junior at the University of California, Berkeley, studying Computer Science and Political Science, interested in international relations and political theory. Jai has worked as a research assistant to Professor Aila Matanock since January 2021 on various projects. He has also interned at Oracle as a database engineer. Outside of his academic interests, Jai enjoys collecting records and playing guitar.\n",
            "Institute of International Studies\n",
            "\n",
            "215 Philosophy Hall\n",
            "\n",
            "Berkeley, CA 94720-2308\n",
            "Email:\n",
            "iis@berkeley.edu\n",
            "\n",
            "Phone: (510)\n",
            "642-1106\n",
            "\n",
            "Fax: (510) 642-9493\n",
            "Berkeley Main Page\n",
            "\n",
            "Campus Administration\n",
            "\n",
            "Berkeley News\n",
            "\n",
            "The Campaign for Berkeley\n",
            "\n",
            "Visiting Berkeley\n",
            "\n",
            "Campus Events\n",
            "Powered by Open Berkeley\n",
            "Accessibility Statement\n",
            "Nondiscrimination Policy Statement\n",
            "Privacy Statement\n",
            "Copyright © 2024 UC Regents; all rights reserved\n",
            "Back to Top\n",
            "\n",
            "\n",
            "Jai Sharma\n",
            "\n",
            "\n",
            "Professor at Colorado School of Mines\n",
            "I'm excited to share recent PhD,\n",
            "Jai Sharma\n",
            "'s final graduate school work, where he initiated a collaboration with Dr.\n",
            "Matthew Crane\n",
            "and his graduate student,\n",
            "Brandon Reynolds\n",
            "to demonstrate detection of pressure-induced phase transition and stress history using photoluminescence. Please reach out if you're interested but don't have access.\n",
            "#materials\n",
            "#ceramics\n",
            "To view or add a comment,\n",
            "sign in\n",
            "Professor at Colorado School of Mines\n",
            "I'm at the TMS Specialty Congress this week and I have the pleasure of sharing recent graduate Dr.\n",
            "Sarah Boardman\n",
            "'s work on flexural strength distributions and strength-controlling flaws in additively manufactured alumina, published in the Journal of the American Ceramics Society earlier this year. Her careful study compared results from fully dense AM alumina to\n",
            "george d. quinn\n",
            "'s comprehensive round robin study on conventionally processed alumina. The TLDR: (1) the strength limiting flaws all have a printing-based origin, (2) characteristic strength and/or Weibull modulus can be worse, better, or equivalent depending on print parameters. See the full study at\n",
            "https://lnkd.in/geJMF2MF\n",
            "Feel free to ask if you don't have access.\n",
            "#JACerS\n",
            "#alumina\n",
            "#materialsscience\n",
            "#additivemanufacturing\n",
            "#LCM\n",
            "#3dprinting\n",
            "#Weibull\n",
            "#TMS\n",
            "To view or add a comment,\n",
            "sign in\n",
            "Professor at Colorado School of Mines\n",
            "As we near the year's end, I realized I missed announcing a few publications.\n",
            "Allison Perna\n",
            ", along with help from colleagues \n",
            "\n",
            "\n",
            "Agree & Join LinkedIn\n",
            "By clicking Continue to join or sign in, you agree to LinkedIn’s\n",
            "User Agreement\n",
            ",\n",
            "Privacy Policy\n",
            ", and\n",
            "Cookie Policy\n",
            ".\n",
            "\n",
            "\n",
            "Corinne Packard’s Post\n",
            "\n",
            "\n",
            "An appropriate representation of the requested resource could not be found on this server. This error was generated by Mod_Security.\n",
            "\n",
            "\n",
            "Not Acceptable!\n"
          ]
        }
      ]
    },
    {
      "cell_type": "code",
      "source": [
        "nodes[4].text"
      ],
      "metadata": {
        "colab": {
          "base_uri": "https://localhost:8080/",
          "height": 53
        },
        "id": "C8_5Klrd0lWc",
        "outputId": "b2fe74a2-b83c-41fd-c8fc-175eec1104c4"
      },
      "execution_count": 69,
      "outputs": [
        {
          "output_type": "execute_result",
          "data": {
            "text/plain": [
              "'Exploring Algebraic Conditions on Counterexamples of the Collatz Conjecture\\nExploring Algebraic Conditions on Counterexamples of the Collatz Conjecture'"
            ],
            "application/vnd.google.colaboratory.intrinsic+json": {
              "type": "string"
            }
          },
          "metadata": {},
          "execution_count": 69
        }
      ]
    },
    {
      "cell_type": "code",
      "source": [
        "[len(i.text) for i in nodes]"
      ],
      "metadata": {
        "colab": {
          "base_uri": "https://localhost:8080/"
        },
        "id": "QK9O0moI3uGh",
        "outputId": "f1c62340-2ba3-4ad2-8181-c229c15c172a"
      },
      "execution_count": 113,
      "outputs": [
        {
          "output_type": "execute_result",
          "data": {
            "text/plain": [
              "[174, 6, 76, 181, 151, 777, 14, 4657, 14, 844, 14, 243]"
            ]
          },
          "metadata": {},
          "execution_count": 113
        }
      ]
    },
    {
      "cell_type": "code",
      "source": [
        "nodes[2].text"
      ],
      "metadata": {
        "colab": {
          "base_uri": "https://localhost:8080/",
          "height": 144
        },
        "id": "zm88vGZR-Rfc",
        "outputId": "80273c29-d085-4105-8392-546554bc1bbe"
      },
      "execution_count": 174,
      "outputs": [
        {
          "output_type": "error",
          "ename": "IndexError",
          "evalue": "list index out of range",
          "traceback": [
            "\u001b[0;31m---------------------------------------------------------------------------\u001b[0m",
            "\u001b[0;31mIndexError\u001b[0m                                Traceback (most recent call last)",
            "\u001b[0;32m<ipython-input-174-b3edfb4776e8>\u001b[0m in \u001b[0;36m<cell line: 1>\u001b[0;34m()\u001b[0m\n\u001b[0;32m----> 1\u001b[0;31m \u001b[0mnodes\u001b[0m\u001b[0;34m[\u001b[0m\u001b[0;36m2\u001b[0m\u001b[0;34m]\u001b[0m\u001b[0;34m.\u001b[0m\u001b[0mtext\u001b[0m\u001b[0;34m\u001b[0m\u001b[0;34m\u001b[0m\u001b[0m\n\u001b[0m",
            "\u001b[0;31mIndexError\u001b[0m: list index out of range"
          ]
        }
      ]
    },
    {
      "cell_type": "code",
      "source": [
        "print(nodes[0].text)"
      ],
      "metadata": {
        "colab": {
          "base_uri": "https://localhost:8080/"
        },
        "id": "a-sZa4P3EglP",
        "outputId": "66f4cb3b-3f98-45ff-fe5d-e19655b35b85"
      },
      "execution_count": 182,
      "outputs": [
        {
          "output_type": "stream",
          "name": "stdout",
          "text": [
            "Jai Sharma is a junior at the University of California, Berkeley, studying Computer Science and Political Science, interested in international relations and political theory. Jai has worked as a research assistant to Professor Aila Matanock since January 2021 on various projects. He has also interned at Oracle as a database engineer. Outside of his academic interests, Jai enjoys collecting records and playing guitar.\n",
            "Institute of International Studies\n",
            "\n",
            "215 Philosophy Hall\n",
            "\n",
            "Berkeley, CA 94720-2308\n",
            "Email:\n",
            "iis@berkeley.edu\n",
            "\n",
            "Phone: (510)\n",
            "642-1106\n",
            "\n",
            "Fax: (510) 642-9493\n",
            "Berkeley Main Page\n",
            "\n",
            "Campus Administration\n",
            "\n",
            "Berkeley News\n",
            "\n",
            "The Campaign for Berkeley\n",
            "\n",
            "Visiting Berkeley\n",
            "\n",
            "Campus Events\n",
            "Powered by Open Berkeley\n",
            "Accessibility Statement\n",
            "Nondiscrimination Policy Statement\n",
            "Privacy Statement\n",
            "Copyright © 2024 UC Regents; all rights reserved\n",
            "Back to Top\n"
          ]
        }
      ]
    },
    {
      "cell_type": "code",
      "source": [
        "len(nodes)"
      ],
      "metadata": {
        "colab": {
          "base_uri": "https://localhost:8080/"
        },
        "id": "Txmkq_AzOV9h",
        "outputId": "0b5c21e4-4ad1-4fea-d745-0ec1510bb34b"
      },
      "execution_count": 178,
      "outputs": [
        {
          "output_type": "execute_result",
          "data": {
            "text/plain": [
              "3"
            ]
          },
          "metadata": {},
          "execution_count": 178
        }
      ]
    },
    {
      "cell_type": "code",
      "source": [],
      "metadata": {
        "id": "d81pLxq4OWeh"
      },
      "execution_count": null,
      "outputs": []
    }
  ]
}